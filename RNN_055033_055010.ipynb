{
  "nbformat": 4,
  "nbformat_minor": 0,
  "metadata": {
    "colab": {
      "provenance": [],
      "gpuType": "T4"
    },
    "kernelspec": {
      "name": "python3",
      "display_name": "Python 3"
    },
    "language_info": {
      "name": "python"
    },
    "accelerator": "GPU"
  },
  "cells": [
    {
      "cell_type": "markdown",
      "source": [
        "# **Sentiment Analysis Using RNN**\n",
        "\n",
        "Priyadarshani Dash (055033) &  Divyank Harjani (055010)\n"
      ],
      "metadata": {
        "id": "r51J3cRo3pN5"
      }
    },
    {
      "cell_type": "markdown",
      "source": [
        "\n",
        "\n",
        "**Tools & Libraries:** Keras, TensorFlow, Pandas, NumPy, Scikit-Learn, Matplotlib, Seaborn  \n",
        "\n",
        "\n",
        "\n",
        "##  **1. Introduction**\n",
        "\n",
        "This project focused on performing sentiment analysis on customer reviews using various Recurrent Neural Network (RNN) architectures. The objective was to classify reviews as positive or negative, optimize the model through hyperparameter tuning, and assess its performance on both the test dataset and an external synthetic dataset.\n",
        "\n",
        "**3. Dataset Description**\n",
        "\n",
        "IMDB Movie Reviews Dataset\n",
        "\n",
        "Training Set: 40,000 samples\n",
        "\n",
        "Test Set: 10,000 samples\n",
        "\n",
        "Labels:\n",
        "\n",
        "Positive: 1\n",
        "\n",
        "Negative: 0\n",
        "\n",
        "External Test Dataset\n",
        "A synthetically generated dataset of **50 movie reviews** from Metacritic created using AI.\n",
        "\n",
        "Used for real-world performance evaluation.\n",
        "\n",
        "\n",
        "\n",
        "## **2. Objective**\n",
        "\n",
        "Develop an RNN-based model to classify customer reviews as positive or negative.\n",
        "\n",
        "Conduct hyperparameter tuning to optimize the model's performance.\n",
        "\n",
        "Implement regularization and advanced techniques (Bidirectional RNN, Gradient Clipping, L2 Regularization) to mitigate overfitting and improve accuracy.\n",
        "\n",
        "Assess the model's performance on both validation and unseen test data.\n",
        "\n",
        "## **3. Data Preprocessing**\n",
        "\n",
        "### **3.1 Data Cleaning**\n",
        "To prepare the text data for training:\n",
        "\n",
        "Convert the text to lowercase for consistency.\n",
        "\n",
        "Remove special characters, numbers, and punctuation.\n",
        "\n",
        "Eliminate stopwords to reduce unnecessary noise.\n",
        "\n",
        "Tokenize the cleaned text and transform it into sequences.\n",
        "\n",
        "Pad the sequences to ensure a consistent length of 200 tokens.\n",
        "\n",
        "### **3.2 Encoding Labels**\n",
        "- Assigned 1 to Positive and 0 to Negative labels for binary classification.\n",
        "\n"
      ],
      "metadata": {
        "id": "rSlWb1-337_z"
      }
    },
    {
      "cell_type": "markdown",
      "source": [
        "## **4. Data Preprocessing**\n",
        "\n",
        "### **4.1 Data Cleaning**\n",
        "To prepare the text data for model training:\n",
        "- **Lowercasing**: Ensuring uniformity across the dataset.  \n",
        "- **Removing special characters, numbers, and punctuation**: Cleaning the text to reduce noise.  \n",
        "- **Stopword Removal**: Eliminating common but unimportant words.  \n",
        "- **Tokenization**: Converting the text into sequences of numerical tokens.  \n",
        "- **Padding Sequences**: Ensuring all sequences have a consistent length of **200 tokens**.  \n",
        "\n",
        "### **4.2 Encoding Labels**\n",
        "- Mapped `Positive` and `Negative` labels to **1** and **0**, respectively, for binary classification.  \n",
        "\n",
        "\n",
        "\n",
        "## ⚙️ **5. Model Architecture and Iterations**\n",
        "\n",
        "### **5.1 Baseline Model**\n",
        "We started with a **basic RNN model** to establish a performance benchmark.  \n",
        "- **Embedding Layer:** `50 dimensions`  \n",
        "- **RNN Layer:** `128 units`  \n",
        "- **Dense Layers:**  \n",
        "  - 128 units with **ReLU** activation  \n",
        "  - Output layer with **Sigmoid** activation  \n",
        "- **Dropout:** `0.2` to prevent overfitting  \n",
        "- **Optimizer:** Adam with a **learning rate of 0.0001**  \n",
        "- **Loss Function:** Binary Crossentropy  \n",
        "- **Callbacks:**  \n",
        "  - EarlyStopping (patience = 5)  \n",
        "  - ModelCheckpoint for saving the best model  \n",
        "\n",
        " **Results:**  \n",
        "- **Validation Accuracy:** `85.75%`  \n",
        "- **Test Accuracy:** `86.07%`  \n",
        "- **External Test Accuracy:** `61.67%`  \n",
        "- The model showed promising accuracy on the IMDB dataset but **failed to generalize** on the external data.  \n",
        "\n",
        "\n",
        "\n",
        "### **5.2 Enhanced Model with Hyperparameter Tuning**\n",
        "To improve performance, we applied **hyperparameter tuning** by optimizing:  \n",
        "- **Embedding Dimension:** Increased to `128`  \n",
        "- **Dropout Rate:** Tuned to `0.2`  \n",
        "- **Learning Rate:** Lowered to `0.0001`  \n",
        "- **Batch Size:** `64`  \n",
        "- **Epochs:** `20`  \n",
        "\n",
        "**Results:**  \n",
        "- **Validation Accuracy:** `85.43%`  \n",
        "- **Test Accuracy:** `85.86%`  \n",
        "- **External Test Accuracy:** `60.00%`  \n",
        "- Despite hyperparameter tuning, the external accuracy decreased, indicating **overfitting** on the IMDB dataset.  \n",
        "\n",
        "\n",
        "### **5.3 Bidirectional RNN**\n",
        "To further improve the model, we implemented a **Bidirectional RNN** to capture both **past and future dependencies**.  \n",
        "- **Bidirectional RNN Layer:** `128 units`  \n",
        "- **Dropout Rate:** `0.2`  \n",
        "- **Batch Normalization** for stability  \n",
        "- **Gradient Clipping** to prevent exploding gradients  \n",
        "\n",
        "**Results:**  \n",
        "- **Validation Accuracy:** `86.31%`  \n",
        "- **Test Accuracy:** `86.97%`  \n",
        "- **External Test Accuracy:** `46.67%`  \n",
        "- The external accuracy significantly **decreased**, indicating that while the Bidirectional RNN captured more dependencies, it still struggled with **long-term information retention**.  \n",
        "\n",
        "\n",
        "\n",
        "## **6. Model Evaluation and Performance Analysis**\n",
        "\n",
        "### **6.1 IMDB Dataset Performance**\n",
        "The RNN models consistently achieved **over 85% accuracy** on the IMDB dataset.  \n",
        "- **Confusion Matrix:**  \n",
        "    - Most reviews were classified correctly, indicating good performance on the known dataset.  \n",
        "- **Loss and Accuracy Trends:**  \n",
        "    - The models initially showed high loss, which gradually decreased, indicating effective learning.  \n",
        "    - The final model achieved an **accuracy of 86.97%** on the test data.  \n",
        "\n",
        "\n",
        "\n",
        "### **6.2 External Dataset Performance**\n",
        "The models consistently **underperformed** on the external Metacritic dataset:  \n",
        "- The baseline model achieved **61.67% accuracy**, while the final Bidirectional RNN achieved only **46.67% accuracy**.  \n",
        "- **Confusion Matrix:**  \n",
        "    - Many **negative reviews** were misclassified as positive, indicating a **bias towards positive predictions**.  \n",
        "- **Classification Report:**  \n",
        "    - **F1-score** and recall were lower on negative reviews, revealing the model's difficulty in accurately identifying negative sentiments.  \n",
        "\n",
        "\n",
        "\n",
        "##  **7. Visualizations**\n",
        "\n",
        "###  **7.1 Accuracy and Loss Curves**\n",
        "- The **training and validation accuracy** improved steadily over epochs.  \n",
        "- The **loss curves** showed gradual convergence, indicating stable learning.  \n",
        "- The **Bidirectional RNN** had a sharper accuracy improvement but struggled with generalization.  \n",
        "\n",
        "### **7.2 Confusion Matrices**\n",
        "- On the external dataset, the model consistently misclassified a high number of negative reviews, indicating **poor generalization**.  \n",
        "\n",
        "\n",
        "\n",
        "## **8. Conclusion**\n",
        "\n",
        "In this project:  \n",
        "- We successfully built and optimized an **RNN-based sentiment analysis model**.  \n",
        "- Through **hyperparameter tuning** and **regularization techniques**, we improved the model's performance on the IMDB dataset, achieving a maximum accuracy of **86.97%**.  \n",
        "- However, the model struggled on the external dataset, with accuracy dropping to **46.67%**, highlighting its **inability to generalize**.  \n",
        "\n",
        "\n",
        "\n",
        "## **9. Key Insights and Recommendations**\n",
        "\n",
        "###  **Key Insights:**\n",
        "- The model's performance deteriorated on the external dataset due to the **short-term memory limitations of RNNs**.  \n",
        "- RNNs fail to retain **long-term dependencies**, which makes them less effective for complex text data.  \n",
        "- The model showed **bias towards positive predictions**, as evidenced by the confusion matrix on the external data.  \n",
        "\n",
        "### **Recommendations:**\n",
        "- To overcome the **short-term memory limitation**, we recommend using **LSTM (Long Short-Term Memory)** or **GRU (Gated Recurrent Unit)** models.  \n",
        "- LSTMs and GRUs are more effective at **retaining long-term dependencies** and can handle complex text data better.  \n",
        "- For improved generalization, consider using:  \n",
        "  - **Pre-trained language models** such as **BERT** or **RoBERTa**.  \n",
        "  - **Transfer learning** with fine-tuning on external datasets.  \n",
        "  - **Data augmentation** and larger external datasets to reduce overfitting.  \n",
        "\n",
        "\n",
        "\n",
        "This project provided valuable insights into the **challenges of using RNNs** for NLP tasks and demonstrated the need for **advanced architectures** like LSTM, GRU, or Transformer-based models for improved performance and generalization."
      ],
      "metadata": {
        "id": "uhLrjYuwWaCi"
      }
    },
    {
      "cell_type": "markdown",
      "source": [
        "# Importing Libraries for handling Text Data"
      ],
      "metadata": {
        "id": "F21nDLzNXJcJ"
      }
    },
    {
      "cell_type": "code",
      "execution_count": null,
      "metadata": {
        "id": "MIPH8USK7KCT"
      },
      "outputs": [],
      "source": [
        "# for string matching\n",
        "import re\n",
        "\n",
        "# for reading data\n",
        "import pandas as pd\n",
        "\n",
        "# for handling html data\n",
        "from bs4 import BeautifulSoup\n",
        "\n",
        "# for visualization\n",
        "import matplotlib.pyplot as plt\n",
        "\n",
        "pd.set_option('display.max_colwidth', 200)"
      ]
    },
    {
      "cell_type": "markdown",
      "source": [
        "# Loading IMDB Text Dataset for traning and validation"
      ],
      "metadata": {
        "id": "CwHfiXRmXSXY"
      }
    },
    {
      "cell_type": "code",
      "source": [
        "import gdown\n",
        "import zipfile\n",
        "import pandas as pd\n",
        "\n",
        "# File ID and output path\n",
        "file_id = \"1V6mQa9ICrj--c6p8h8nWlji78EzlaDtV\"\n",
        "output = \"file.zip\"  # Change the name if needed\n",
        "\n",
        "# Download the file\n",
        "gdown.download(f\"https://drive.google.com/uc?id={file_id}\", output, quiet=False)\n",
        "\n",
        "# Extract the ZIP file\n",
        "with zipfile.ZipFile(output, 'r') as zip_ref:\n",
        "    zip_ref.extractall(\"data\")  # Extract to 'data' folder\n",
        "\n",
        "# Load the datasets\n",
        "# Updated path to include the 'data' folder\n",
        "imdb = pd.read_csv('data/IMDB Dataset.csv', encoding='latin-1')\n",
        "\n",
        "# Display the first few rows\n",
        "imdb.head()"
      ],
      "metadata": {
        "colab": {
          "base_uri": "https://localhost:8080/",
          "height": 293
        },
        "id": "9feb6vU874VC",
        "outputId": "86e19d3a-0b9d-4846-85a1-022b1258aafa"
      },
      "execution_count": null,
      "outputs": [
        {
          "output_type": "stream",
          "name": "stderr",
          "text": [
            "Downloading...\n",
            "From (original): https://drive.google.com/uc?id=1V6mQa9ICrj--c6p8h8nWlji78EzlaDtV\n",
            "From (redirected): https://drive.google.com/uc?id=1V6mQa9ICrj--c6p8h8nWlji78EzlaDtV&confirm=t&uuid=8bde71ca-49f3-497e-aa79-60b9eb54182f\n",
            "To: /content/file.zip\n",
            "100%|██████████| 27.0M/27.0M [00:00<00:00, 42.6MB/s]\n"
          ]
        },
        {
          "output_type": "execute_result",
          "data": {
            "text/plain": [
              "                                                                                                                                                                                                    review  \\\n",
              "0  One of the other reviewers has mentioned that after watching just 1 Oz episode you'll be hooked. They are right, as this is exactly what happened with me.<br /><br />The first thing that struck me...   \n",
              "1  A wonderful little production. <br /><br />The filming technique is very unassuming- very old-time-BBC fashion and gives a comforting, and sometimes discomforting, sense of realism to the entire p...   \n",
              "2  I thought this was a wonderful way to spend time on a too hot summer weekend, sitting in the air conditioned theater and watching a light-hearted comedy. The plot is simplistic, but the dialogue i...   \n",
              "3  Basically there's a family where a little boy (Jake) thinks there's a zombie in his closet & his parents are fighting all the time.<br /><br />This movie is slower than a soap opera... and suddenl...   \n",
              "4  Petter Mattei's \"Love in the Time of Money\" is a visually stunning film to watch. Mr. Mattei offers us a vivid portrait about human relations. This is a movie that seems to be telling us what mone...   \n",
              "\n",
              "  sentiment  \n",
              "0  positive  \n",
              "1  positive  \n",
              "2  positive  \n",
              "3  negative  \n",
              "4  positive  "
            ],
            "text/html": [
              "\n",
              "  <div id=\"df-b2e8dc82-2fc5-4ceb-b222-2fe70bcd73c9\" class=\"colab-df-container\">\n",
              "    <div>\n",
              "<style scoped>\n",
              "    .dataframe tbody tr th:only-of-type {\n",
              "        vertical-align: middle;\n",
              "    }\n",
              "\n",
              "    .dataframe tbody tr th {\n",
              "        vertical-align: top;\n",
              "    }\n",
              "\n",
              "    .dataframe thead th {\n",
              "        text-align: right;\n",
              "    }\n",
              "</style>\n",
              "<table border=\"1\" class=\"dataframe\">\n",
              "  <thead>\n",
              "    <tr style=\"text-align: right;\">\n",
              "      <th></th>\n",
              "      <th>review</th>\n",
              "      <th>sentiment</th>\n",
              "    </tr>\n",
              "  </thead>\n",
              "  <tbody>\n",
              "    <tr>\n",
              "      <th>0</th>\n",
              "      <td>One of the other reviewers has mentioned that after watching just 1 Oz episode you'll be hooked. They are right, as this is exactly what happened with me.&lt;br /&gt;&lt;br /&gt;The first thing that struck me...</td>\n",
              "      <td>positive</td>\n",
              "    </tr>\n",
              "    <tr>\n",
              "      <th>1</th>\n",
              "      <td>A wonderful little production. &lt;br /&gt;&lt;br /&gt;The filming technique is very unassuming- very old-time-BBC fashion and gives a comforting, and sometimes discomforting, sense of realism to the entire p...</td>\n",
              "      <td>positive</td>\n",
              "    </tr>\n",
              "    <tr>\n",
              "      <th>2</th>\n",
              "      <td>I thought this was a wonderful way to spend time on a too hot summer weekend, sitting in the air conditioned theater and watching a light-hearted comedy. The plot is simplistic, but the dialogue i...</td>\n",
              "      <td>positive</td>\n",
              "    </tr>\n",
              "    <tr>\n",
              "      <th>3</th>\n",
              "      <td>Basically there's a family where a little boy (Jake) thinks there's a zombie in his closet &amp; his parents are fighting all the time.&lt;br /&gt;&lt;br /&gt;This movie is slower than a soap opera... and suddenl...</td>\n",
              "      <td>negative</td>\n",
              "    </tr>\n",
              "    <tr>\n",
              "      <th>4</th>\n",
              "      <td>Petter Mattei's \"Love in the Time of Money\" is a visually stunning film to watch. Mr. Mattei offers us a vivid portrait about human relations. This is a movie that seems to be telling us what mone...</td>\n",
              "      <td>positive</td>\n",
              "    </tr>\n",
              "  </tbody>\n",
              "</table>\n",
              "</div>\n",
              "    <div class=\"colab-df-buttons\">\n",
              "\n",
              "  <div class=\"colab-df-container\">\n",
              "    <button class=\"colab-df-convert\" onclick=\"convertToInteractive('df-b2e8dc82-2fc5-4ceb-b222-2fe70bcd73c9')\"\n",
              "            title=\"Convert this dataframe to an interactive table.\"\n",
              "            style=\"display:none;\">\n",
              "\n",
              "  <svg xmlns=\"http://www.w3.org/2000/svg\" height=\"24px\" viewBox=\"0 -960 960 960\">\n",
              "    <path d=\"M120-120v-720h720v720H120Zm60-500h600v-160H180v160Zm220 220h160v-160H400v160Zm0 220h160v-160H400v160ZM180-400h160v-160H180v160Zm440 0h160v-160H620v160ZM180-180h160v-160H180v160Zm440 0h160v-160H620v160Z\"/>\n",
              "  </svg>\n",
              "    </button>\n",
              "\n",
              "  <style>\n",
              "    .colab-df-container {\n",
              "      display:flex;\n",
              "      gap: 12px;\n",
              "    }\n",
              "\n",
              "    .colab-df-convert {\n",
              "      background-color: #E8F0FE;\n",
              "      border: none;\n",
              "      border-radius: 50%;\n",
              "      cursor: pointer;\n",
              "      display: none;\n",
              "      fill: #1967D2;\n",
              "      height: 32px;\n",
              "      padding: 0 0 0 0;\n",
              "      width: 32px;\n",
              "    }\n",
              "\n",
              "    .colab-df-convert:hover {\n",
              "      background-color: #E2EBFA;\n",
              "      box-shadow: 0px 1px 2px rgba(60, 64, 67, 0.3), 0px 1px 3px 1px rgba(60, 64, 67, 0.15);\n",
              "      fill: #174EA6;\n",
              "    }\n",
              "\n",
              "    .colab-df-buttons div {\n",
              "      margin-bottom: 4px;\n",
              "    }\n",
              "\n",
              "    [theme=dark] .colab-df-convert {\n",
              "      background-color: #3B4455;\n",
              "      fill: #D2E3FC;\n",
              "    }\n",
              "\n",
              "    [theme=dark] .colab-df-convert:hover {\n",
              "      background-color: #434B5C;\n",
              "      box-shadow: 0px 1px 3px 1px rgba(0, 0, 0, 0.15);\n",
              "      filter: drop-shadow(0px 1px 2px rgba(0, 0, 0, 0.3));\n",
              "      fill: #FFFFFF;\n",
              "    }\n",
              "  </style>\n",
              "\n",
              "    <script>\n",
              "      const buttonEl =\n",
              "        document.querySelector('#df-b2e8dc82-2fc5-4ceb-b222-2fe70bcd73c9 button.colab-df-convert');\n",
              "      buttonEl.style.display =\n",
              "        google.colab.kernel.accessAllowed ? 'block' : 'none';\n",
              "\n",
              "      async function convertToInteractive(key) {\n",
              "        const element = document.querySelector('#df-b2e8dc82-2fc5-4ceb-b222-2fe70bcd73c9');\n",
              "        const dataTable =\n",
              "          await google.colab.kernel.invokeFunction('convertToInteractive',\n",
              "                                                    [key], {});\n",
              "        if (!dataTable) return;\n",
              "\n",
              "        const docLinkHtml = 'Like what you see? Visit the ' +\n",
              "          '<a target=\"_blank\" href=https://colab.research.google.com/notebooks/data_table.ipynb>data table notebook</a>'\n",
              "          + ' to learn more about interactive tables.';\n",
              "        element.innerHTML = '';\n",
              "        dataTable['output_type'] = 'display_data';\n",
              "        await google.colab.output.renderOutput(dataTable, element);\n",
              "        const docLink = document.createElement('div');\n",
              "        docLink.innerHTML = docLinkHtml;\n",
              "        element.appendChild(docLink);\n",
              "      }\n",
              "    </script>\n",
              "  </div>\n",
              "\n",
              "\n",
              "<div id=\"df-e4e61f44-1ce1-4fb0-be1e-72a08b8ecf87\">\n",
              "  <button class=\"colab-df-quickchart\" onclick=\"quickchart('df-e4e61f44-1ce1-4fb0-be1e-72a08b8ecf87')\"\n",
              "            title=\"Suggest charts\"\n",
              "            style=\"display:none;\">\n",
              "\n",
              "<svg xmlns=\"http://www.w3.org/2000/svg\" height=\"24px\"viewBox=\"0 0 24 24\"\n",
              "     width=\"24px\">\n",
              "    <g>\n",
              "        <path d=\"M19 3H5c-1.1 0-2 .9-2 2v14c0 1.1.9 2 2 2h14c1.1 0 2-.9 2-2V5c0-1.1-.9-2-2-2zM9 17H7v-7h2v7zm4 0h-2V7h2v10zm4 0h-2v-4h2v4z\"/>\n",
              "    </g>\n",
              "</svg>\n",
              "  </button>\n",
              "\n",
              "<style>\n",
              "  .colab-df-quickchart {\n",
              "      --bg-color: #E8F0FE;\n",
              "      --fill-color: #1967D2;\n",
              "      --hover-bg-color: #E2EBFA;\n",
              "      --hover-fill-color: #174EA6;\n",
              "      --disabled-fill-color: #AAA;\n",
              "      --disabled-bg-color: #DDD;\n",
              "  }\n",
              "\n",
              "  [theme=dark] .colab-df-quickchart {\n",
              "      --bg-color: #3B4455;\n",
              "      --fill-color: #D2E3FC;\n",
              "      --hover-bg-color: #434B5C;\n",
              "      --hover-fill-color: #FFFFFF;\n",
              "      --disabled-bg-color: #3B4455;\n",
              "      --disabled-fill-color: #666;\n",
              "  }\n",
              "\n",
              "  .colab-df-quickchart {\n",
              "    background-color: var(--bg-color);\n",
              "    border: none;\n",
              "    border-radius: 50%;\n",
              "    cursor: pointer;\n",
              "    display: none;\n",
              "    fill: var(--fill-color);\n",
              "    height: 32px;\n",
              "    padding: 0;\n",
              "    width: 32px;\n",
              "  }\n",
              "\n",
              "  .colab-df-quickchart:hover {\n",
              "    background-color: var(--hover-bg-color);\n",
              "    box-shadow: 0 1px 2px rgba(60, 64, 67, 0.3), 0 1px 3px 1px rgba(60, 64, 67, 0.15);\n",
              "    fill: var(--button-hover-fill-color);\n",
              "  }\n",
              "\n",
              "  .colab-df-quickchart-complete:disabled,\n",
              "  .colab-df-quickchart-complete:disabled:hover {\n",
              "    background-color: var(--disabled-bg-color);\n",
              "    fill: var(--disabled-fill-color);\n",
              "    box-shadow: none;\n",
              "  }\n",
              "\n",
              "  .colab-df-spinner {\n",
              "    border: 2px solid var(--fill-color);\n",
              "    border-color: transparent;\n",
              "    border-bottom-color: var(--fill-color);\n",
              "    animation:\n",
              "      spin 1s steps(1) infinite;\n",
              "  }\n",
              "\n",
              "  @keyframes spin {\n",
              "    0% {\n",
              "      border-color: transparent;\n",
              "      border-bottom-color: var(--fill-color);\n",
              "      border-left-color: var(--fill-color);\n",
              "    }\n",
              "    20% {\n",
              "      border-color: transparent;\n",
              "      border-left-color: var(--fill-color);\n",
              "      border-top-color: var(--fill-color);\n",
              "    }\n",
              "    30% {\n",
              "      border-color: transparent;\n",
              "      border-left-color: var(--fill-color);\n",
              "      border-top-color: var(--fill-color);\n",
              "      border-right-color: var(--fill-color);\n",
              "    }\n",
              "    40% {\n",
              "      border-color: transparent;\n",
              "      border-right-color: var(--fill-color);\n",
              "      border-top-color: var(--fill-color);\n",
              "    }\n",
              "    60% {\n",
              "      border-color: transparent;\n",
              "      border-right-color: var(--fill-color);\n",
              "    }\n",
              "    80% {\n",
              "      border-color: transparent;\n",
              "      border-right-color: var(--fill-color);\n",
              "      border-bottom-color: var(--fill-color);\n",
              "    }\n",
              "    90% {\n",
              "      border-color: transparent;\n",
              "      border-bottom-color: var(--fill-color);\n",
              "    }\n",
              "  }\n",
              "</style>\n",
              "\n",
              "  <script>\n",
              "    async function quickchart(key) {\n",
              "      const quickchartButtonEl =\n",
              "        document.querySelector('#' + key + ' button');\n",
              "      quickchartButtonEl.disabled = true;  // To prevent multiple clicks.\n",
              "      quickchartButtonEl.classList.add('colab-df-spinner');\n",
              "      try {\n",
              "        const charts = await google.colab.kernel.invokeFunction(\n",
              "            'suggestCharts', [key], {});\n",
              "      } catch (error) {\n",
              "        console.error('Error during call to suggestCharts:', error);\n",
              "      }\n",
              "      quickchartButtonEl.classList.remove('colab-df-spinner');\n",
              "      quickchartButtonEl.classList.add('colab-df-quickchart-complete');\n",
              "    }\n",
              "    (() => {\n",
              "      let quickchartButtonEl =\n",
              "        document.querySelector('#df-e4e61f44-1ce1-4fb0-be1e-72a08b8ecf87 button');\n",
              "      quickchartButtonEl.style.display =\n",
              "        google.colab.kernel.accessAllowed ? 'block' : 'none';\n",
              "    })();\n",
              "  </script>\n",
              "</div>\n",
              "\n",
              "    </div>\n",
              "  </div>\n"
            ],
            "application/vnd.google.colaboratory.intrinsic+json": {
              "type": "dataframe",
              "variable_name": "imdb",
              "summary": "{\n  \"name\": \"imdb\",\n  \"rows\": 50000,\n  \"fields\": [\n    {\n      \"column\": \"review\",\n      \"properties\": {\n        \"dtype\": \"string\",\n        \"num_unique_values\": 49582,\n        \"samples\": [\n          \"\\\"Soul Plane\\\" is a horrible attempt at comedy that only should appeal people with thick skulls, bloodshot eyes and furry pawns. <br /><br />The plot is not only incoherent but also non-existent, acting is mostly sub sub-par with a gang of highly moronic and dreadful characters thrown in for bad measure, jokes are often spotted miles ahead and almost never even a bit amusing. This movie lacks any structure and is full of racial stereotypes that must have seemed old even in the fifties, the only thing it really has going for it is some pretty ladies, but really, if you want that you can rent something from the \\\"Adult\\\" section. OK?<br /><br />I can hardly see anything here to recommend since you'll probably have a lot a better and productive time chasing rats with a sledgehammer or inventing waterproof teabags or whatever.<br /><br />2/10\",\n          \"Guest from the Future tells a fascinating story of time travel, friendship, battle of good and evil -- all with a small budget, child actors, and few special effects. Something for Spielberg and Lucas to learn from. ;) A sixth-grader Kolya \\\"Nick\\\" Gerasimov finds a time machine in the basement of a decrepit building and travels 100 years into the future. He discovers a near-perfect, utopian society where robots play guitars and write poetry, everyone is kind to each other and people enjoy everything technology has to offer. Alice is the daughter of a prominent scientist who invented a device called Mielophone that allows to read minds of humans and animals. The device can be put to both good and bad use, depending on whose hands it falls into. When two evil space pirates from Saturn who want to rule the universe attempt to steal Mielophone, it falls into the hands of 20th century school boy Nick. With the pirates hot on his tracks, he travels back to his time, followed by the pirates, and Alice. Chaos, confusion and funny situations follow as the luckless pirates try to blend in with the earthlings. Alice enrolls in the same school Nick goes to and demonstrates superhuman abilities in PE class. The catch is, Alice doesn't know what Nick looks like, while the pirates do. Also, the pirates are able to change their appearance and turn literally into anyone. (Hmm, I wonder if this is where James Cameron got the idea for Terminator...) Who gets to Nick -- and Mielophone -- first? Excellent plot, non-stop adventures, and great soundtrack. I wish Hollywood made kid movies like this one...\",\n          \"\\\"National Treasure\\\" (2004) is a thoroughly misguided hodge-podge of plot entanglements that borrow from nearly every cloak and dagger government conspiracy clich\\u00c3\\u00a9 that has ever been written. The film stars Nicholas Cage as Benjamin Franklin Gates (how precious is that, I ask you?); a seemingly normal fellow who, for no other reason than being of a lineage of like-minded misguided fortune hunters, decides to steal a 'national treasure' that has been hidden by the United States founding fathers. After a bit of subtext and background that plays laughably (unintentionally) like Indiana Jones meets The Patriot, the film degenerates into one misguided whimsy after another \\u00c2\\u0096 attempting to create a 'Stanley Goodspeed' regurgitation of Nicholas Cage and launch the whole convoluted mess forward with a series of high octane, but disconnected misadventures.<br /><br />The relevancy and logic to having George Washington and his motley crew of patriots burying a king's ransom someplace on native soil, and then, going through the meticulous plan of leaving clues scattered throughout U.S. currency art work, is something that director Jon Turteltaub never quite gets around to explaining. Couldn't Washington found better usage for such wealth during the start up of the country? Hence, we are left with a mystery built on top of an enigma that is already on shaky ground by the time Ben appoints himself the new custodian of this untold wealth. Ben's intentions are noble \\u00c2\\u0096 if confusing. He's set on protecting the treasure. For who and when?\\u00c2\\u0085your guess is as good as mine.<br /><br />But there are a few problems with Ben's crusade. First up, his friend, Ian Holmes (Sean Bean) decides that he can't wait for Ben to make up his mind about stealing the Declaration of Independence from the National Archives (oh, yeah \\u00c2\\u0096 brilliant idea!). Presumably, the back of that famous document holds the secret answer to the ultimate fortune. So Ian tries to kill Ben. The assassination attempt is, of course, unsuccessful, if overly melodramatic. It also affords Ben the opportunity to pick up, and pick on, the very sultry curator of the archives, Abigail Chase (Diane Kruger). She thinks Ben is clearly a nut \\u00c2\\u0096 at least at the beginning. But true to action/romance form, Abby's resolve melts quicker than you can say, \\\"is that the Hope Diamond?\\\" The film moves into full X-File-ish mode, as the FBI, mistakenly believing that Ben is behind the theft, retaliate in various benign ways that lead to a multi-layering of action sequences reminiscent of Mission Impossible meets The Fugitive. Honestly, don't those guys ever get 'intelligence' information that is correct? In the final analysis, \\\"National Treasure\\\" isn't great film making, so much as it's a patchwork rehash of tired old bits from other movies, woven together from scraps, the likes of which would make IL' Betsy Ross blush.<br /><br />The Buena Vista DVD delivers a far more generous treatment than this film is deserving of. The anamorphic widescreen picture exhibits a very smooth and finely detailed image with very rich colors, natural flesh tones, solid blacks and clean whites. The stylized image is also free of blemishes and digital enhancements. The audio is 5.1 and delivers a nice sonic boom to your side and rear speakers with intensity and realism. Extras include a host of promotional junket material that is rather deep and over the top in its explanation of how and why this film was made. If only, as an audience, we had had more clarification as to why Ben and co. were chasing after an illusive treasure, this might have been one good flick. Extras conclude with the theatrical trailer, audio commentary and deleted scenes. Not for the faint-hearted \\u00c2\\u0096 just the thick-headed.\"\n        ],\n        \"semantic_type\": \"\",\n        \"description\": \"\"\n      }\n    },\n    {\n      \"column\": \"sentiment\",\n      \"properties\": {\n        \"dtype\": \"category\",\n        \"num_unique_values\": 2,\n        \"samples\": [\n          \"negative\",\n          \"positive\"\n        ],\n        \"semantic_type\": \"\",\n        \"description\": \"\"\n      }\n    }\n  ]\n}"
            }
          },
          "metadata": {},
          "execution_count": 2
        }
      ]
    },
    {
      "cell_type": "code",
      "source": [
        "imdb.shape"
      ],
      "metadata": {
        "colab": {
          "base_uri": "https://localhost:8080/"
        },
        "id": "grr8zZYb5LMN",
        "outputId": "b4ed57ab-3468-4eeb-a58e-8780f74e39f8"
      },
      "execution_count": null,
      "outputs": [
        {
          "output_type": "execute_result",
          "data": {
            "text/plain": [
              "(50000, 2)"
            ]
          },
          "metadata": {},
          "execution_count": 140
        }
      ]
    },
    {
      "cell_type": "markdown",
      "source": [
        "# Text Cleaning"
      ],
      "metadata": {
        "id": "rhmymAc99ICO"
      }
    },
    {
      "cell_type": "code",
      "source": [
        "def cleaner(text):\n",
        "\n",
        "  # take off html tags\n",
        "  text = BeautifulSoup(text).get_text()\n",
        "\n",
        "  # fetch alphabetic characters\n",
        "  text = re.sub(\"[^a-zA-Z]\", \" \", text)\n",
        "\n",
        "  # convert text to lower case\n",
        "  text = text.lower()\n",
        "\n",
        "  # split text into tokens to remove whitespaces\n",
        "  tokens = text.split()\n",
        "\n",
        "  return \" \".join(tokens)"
      ],
      "metadata": {
        "id": "I8uPZ_Zm9JDE"
      },
      "execution_count": null,
      "outputs": []
    },
    {
      "cell_type": "code",
      "source": [
        "# call preprocessing function\n",
        "imdb['cleaned_text'] = imdb['review'].apply(cleaner)"
      ],
      "metadata": {
        "id": "rx6R_5D09Lt0"
      },
      "execution_count": null,
      "outputs": []
    },
    {
      "cell_type": "code",
      "source": [
        "imdb['review'][1]"
      ],
      "metadata": {
        "colab": {
          "base_uri": "https://localhost:8080/",
          "height": 123
        },
        "id": "aPMY_bzg9cof",
        "outputId": "997a5a05-07af-421b-f75c-8f632c898c24"
      },
      "execution_count": null,
      "outputs": [
        {
          "output_type": "execute_result",
          "data": {
            "text/plain": [
              "'A wonderful little production. <br /><br />The filming technique is very unassuming- very old-time-BBC fashion and gives a comforting, and sometimes discomforting, sense of realism to the entire piece. <br /><br />The actors are extremely well chosen- Michael Sheen not only \"has got all the polari\" but he has all the voices down pat too! You can truly see the seamless editing guided by the references to Williams\\' diary entries, not only is it well worth the watching but it is a terrificly written and performed piece. A masterful production about one of the great master\\'s of comedy and his life. <br /><br />The realism really comes home with the little things: the fantasy of the guard which, rather than use the traditional \\'dream\\' techniques remains solid then disappears. It plays on our knowledge and our senses, particularly with the scenes concerning Orton and Halliwell and the sets (particularly of their flat with Halliwell\\'s murals decorating every surface) are terribly well done.'"
            ],
            "application/vnd.google.colaboratory.intrinsic+json": {
              "type": "string"
            }
          },
          "metadata": {},
          "execution_count": 143
        }
      ]
    },
    {
      "cell_type": "code",
      "source": [
        "imdb['cleaned_text'][1]"
      ],
      "metadata": {
        "colab": {
          "base_uri": "https://localhost:8080/",
          "height": 122
        },
        "id": "Gw2YCDW59dLb",
        "outputId": "d11e4fa8-9353-4b7d-ff55-ab64889ac52e"
      },
      "execution_count": null,
      "outputs": [
        {
          "output_type": "execute_result",
          "data": {
            "text/plain": [
              "'a wonderful little production the filming technique is very unassuming very old time bbc fashion and gives a comforting and sometimes discomforting sense of realism to the entire piece the actors are extremely well chosen michael sheen not only has got all the polari but he has all the voices down pat too you can truly see the seamless editing guided by the references to williams diary entries not only is it well worth the watching but it is a terrificly written and performed piece a masterful production about one of the great master s of comedy and his life the realism really comes home with the little things the fantasy of the guard which rather than use the traditional dream techniques remains solid then disappears it plays on our knowledge and our senses particularly with the scenes concerning orton and halliwell and the sets particularly of their flat with halliwell s murals decorating every surface are terribly well done'"
            ],
            "application/vnd.google.colaboratory.intrinsic+json": {
              "type": "string"
            }
          },
          "metadata": {},
          "execution_count": 144
        }
      ]
    },
    {
      "cell_type": "code",
      "source": [
        "import numpy as np\n",
        "import pandas as pd\n",
        "from tensorflow.keras.preprocessing.text import Tokenizer\n",
        "from tensorflow.keras.preprocessing.sequence import pad_sequences\n",
        "from sklearn.model_selection import train_test_split\n",
        "from tensorflow.keras.utils import to_categorical\n",
        "\n",
        "# Assuming 'imdb' is your DataFrame\n",
        "X = imdb['cleaned_text'].values  # Extract cleaned text\n",
        "y = imdb['sentiment'].map({'positive': 1, 'negative': 0}).values  # Convert labels to binary\n"
      ],
      "metadata": {
        "id": "YZxUNKafAsxN"
      },
      "execution_count": null,
      "outputs": []
    },
    {
      "cell_type": "code",
      "source": [
        "# Tokenization\n",
        "tokenizer = Tokenizer(num_words=20000)  # Keep 20,000 most frequent words\n",
        "tokenizer.fit_on_texts(X)\n",
        "X_sequences = tokenizer.texts_to_sequences(X)\n",
        "\n",
        "# Padding\n",
        "max_len = 200  # Define max length of sequences\n",
        "X_padded = pad_sequences(X_sequences, maxlen=max_len, padding='post')"
      ],
      "metadata": {
        "id": "UrwfZ5dOAvnc"
      },
      "execution_count": null,
      "outputs": []
    },
    {
      "cell_type": "markdown",
      "source": [
        "# Splitting dataset\n",
        "## Print shapes to verify\n"
      ],
      "metadata": {
        "id": "gkd8j8hnA0eg"
      }
    },
    {
      "cell_type": "code",
      "source": [
        "# Splitting dataset\n",
        "X_train, X_test, y_train, y_test = train_test_split(X_padded, y, test_size=0.2,stratify=y, random_state=55005015)\n",
        "\n",
        "# Print shapes to verify\n",
        "print(\"X_train shape:\", X_train.shape)\n",
        "print(\"X_test shape:\", X_test.shape)\n",
        "print(\"y_train shape:\", y_train.shape)\n",
        "print(\"y_test shape:\", y_test.shape)"
      ],
      "metadata": {
        "colab": {
          "base_uri": "https://localhost:8080/"
        },
        "id": "G6QYJmb8Dhg2",
        "outputId": "cb67e5a2-a6e1-431b-f164-999f3ae00ce6"
      },
      "execution_count": null,
      "outputs": [
        {
          "output_type": "stream",
          "name": "stdout",
          "text": [
            "X_train shape: (40000, 200)\n",
            "X_test shape: (10000, 200)\n",
            "y_train shape: (40000,)\n",
            "y_test shape: (10000,)\n"
          ]
        }
      ]
    },
    {
      "cell_type": "code",
      "source": [
        "from tensorflow.keras.models import Sequential\n",
        "from tensorflow.keras.layers import Embedding, SimpleRNN, Dense, Dropout\n",
        "\n",
        "# Parameters\n",
        "vocab_size = 20000  # Same as in the tokenizer\n",
        "embedding_dim = 128\n",
        "rnn_units = 128\n",
        "max_len=200"
      ],
      "metadata": {
        "id": "cAYfdqcNA5wN"
      },
      "execution_count": null,
      "outputs": []
    },
    {
      "cell_type": "code",
      "source": [
        "from keras.models import *\n",
        "from keras.layers import *\n",
        "from keras.callbacks import *\n",
        "\n",
        "#sequential model\n",
        "model = Sequential()\n",
        "# Update vocab_size dynamically\n",
        "vocab_size = len(tokenizer.word_index) + 1  # Ensure it matches tokenizer\n",
        "#embedding layer\n",
        "model.add(Embedding(vocab_size, 50, input_shape=(max_len,), mask_zero=True))\n",
        "\n",
        "#rnn layer\n",
        "model.add(SimpleRNN(128,activation='relu'))\n",
        "\n",
        "#dense layer\n",
        "model.add(Dense(128,activation='relu'))\n",
        "\n",
        "#output layer\n",
        "# Change the number of units to 1 and activation to 'sigmoid'\n",
        "model.add(Dense(1,activation='sigmoid'))"
      ],
      "metadata": {
        "colab": {
          "base_uri": "https://localhost:8080/"
        },
        "id": "jqdLV24zE3tn",
        "outputId": "51e57096-6895-4884-d088-640028719c3b"
      },
      "execution_count": null,
      "outputs": [
        {
          "output_type": "stream",
          "name": "stderr",
          "text": [
            "/usr/local/lib/python3.11/dist-packages/keras/src/layers/core/embedding.py:93: UserWarning: Do not pass an `input_shape`/`input_dim` argument to a layer. When using Sequential models, prefer using an `Input(shape)` object as the first layer in the model instead.\n",
            "  super().__init__(**kwargs)\n"
          ]
        }
      ]
    },
    {
      "cell_type": "code",
      "source": [
        "model.summary()"
      ],
      "metadata": {
        "colab": {
          "base_uri": "https://localhost:8080/",
          "height": 257
        },
        "id": "fA7WeAnQFZ9z",
        "outputId": "799a99d8-3d56-4730-d970-47100b77e286"
      },
      "execution_count": null,
      "outputs": [
        {
          "output_type": "display_data",
          "data": {
            "text/plain": [
              "\u001b[1mModel: \"sequential\"\u001b[0m\n"
            ],
            "text/html": [
              "<pre style=\"white-space:pre;overflow-x:auto;line-height:normal;font-family:Menlo,'DejaVu Sans Mono',consolas,'Courier New',monospace\"><span style=\"font-weight: bold\">Model: \"sequential\"</span>\n",
              "</pre>\n"
            ]
          },
          "metadata": {}
        },
        {
          "output_type": "display_data",
          "data": {
            "text/plain": [
              "┏━━━━━━━━━━━━━━━━━━━━━━━━━━━━━━━━━━━━━━┳━━━━━━━━━━━━━━━━━━━━━━━━━━━━━┳━━━━━━━━━━━━━━━━━┓\n",
              "┃\u001b[1m \u001b[0m\u001b[1mLayer (type)                        \u001b[0m\u001b[1m \u001b[0m┃\u001b[1m \u001b[0m\u001b[1mOutput Shape               \u001b[0m\u001b[1m \u001b[0m┃\u001b[1m \u001b[0m\u001b[1m        Param #\u001b[0m\u001b[1m \u001b[0m┃\n",
              "┡━━━━━━━━━━━━━━━━━━━━━━━━━━━━━━━━━━━━━━╇━━━━━━━━━━━━━━━━━━━━━━━━━━━━━╇━━━━━━━━━━━━━━━━━┩\n",
              "│ embedding (\u001b[38;5;33mEmbedding\u001b[0m)                │ (\u001b[38;5;45mNone\u001b[0m, \u001b[38;5;34m200\u001b[0m, \u001b[38;5;34m50\u001b[0m)             │       \u001b[38;5;34m5,070,000\u001b[0m │\n",
              "├──────────────────────────────────────┼─────────────────────────────┼─────────────────┤\n",
              "│ simple_rnn (\u001b[38;5;33mSimpleRNN\u001b[0m)               │ (\u001b[38;5;45mNone\u001b[0m, \u001b[38;5;34m128\u001b[0m)                 │          \u001b[38;5;34m22,912\u001b[0m │\n",
              "├──────────────────────────────────────┼─────────────────────────────┼─────────────────┤\n",
              "│ dense (\u001b[38;5;33mDense\u001b[0m)                        │ (\u001b[38;5;45mNone\u001b[0m, \u001b[38;5;34m128\u001b[0m)                 │          \u001b[38;5;34m16,512\u001b[0m │\n",
              "├──────────────────────────────────────┼─────────────────────────────┼─────────────────┤\n",
              "│ dense_1 (\u001b[38;5;33mDense\u001b[0m)                      │ (\u001b[38;5;45mNone\u001b[0m, \u001b[38;5;34m1\u001b[0m)                   │             \u001b[38;5;34m129\u001b[0m │\n",
              "└──────────────────────────────────────┴─────────────────────────────┴─────────────────┘\n"
            ],
            "text/html": [
              "<pre style=\"white-space:pre;overflow-x:auto;line-height:normal;font-family:Menlo,'DejaVu Sans Mono',consolas,'Courier New',monospace\">┏━━━━━━━━━━━━━━━━━━━━━━━━━━━━━━━━━━━━━━┳━━━━━━━━━━━━━━━━━━━━━━━━━━━━━┳━━━━━━━━━━━━━━━━━┓\n",
              "┃<span style=\"font-weight: bold\"> Layer (type)                         </span>┃<span style=\"font-weight: bold\"> Output Shape                </span>┃<span style=\"font-weight: bold\">         Param # </span>┃\n",
              "┡━━━━━━━━━━━━━━━━━━━━━━━━━━━━━━━━━━━━━━╇━━━━━━━━━━━━━━━━━━━━━━━━━━━━━╇━━━━━━━━━━━━━━━━━┩\n",
              "│ embedding (<span style=\"color: #0087ff; text-decoration-color: #0087ff\">Embedding</span>)                │ (<span style=\"color: #00d7ff; text-decoration-color: #00d7ff\">None</span>, <span style=\"color: #00af00; text-decoration-color: #00af00\">200</span>, <span style=\"color: #00af00; text-decoration-color: #00af00\">50</span>)             │       <span style=\"color: #00af00; text-decoration-color: #00af00\">5,070,000</span> │\n",
              "├──────────────────────────────────────┼─────────────────────────────┼─────────────────┤\n",
              "│ simple_rnn (<span style=\"color: #0087ff; text-decoration-color: #0087ff\">SimpleRNN</span>)               │ (<span style=\"color: #00d7ff; text-decoration-color: #00d7ff\">None</span>, <span style=\"color: #00af00; text-decoration-color: #00af00\">128</span>)                 │          <span style=\"color: #00af00; text-decoration-color: #00af00\">22,912</span> │\n",
              "├──────────────────────────────────────┼─────────────────────────────┼─────────────────┤\n",
              "│ dense (<span style=\"color: #0087ff; text-decoration-color: #0087ff\">Dense</span>)                        │ (<span style=\"color: #00d7ff; text-decoration-color: #00d7ff\">None</span>, <span style=\"color: #00af00; text-decoration-color: #00af00\">128</span>)                 │          <span style=\"color: #00af00; text-decoration-color: #00af00\">16,512</span> │\n",
              "├──────────────────────────────────────┼─────────────────────────────┼─────────────────┤\n",
              "│ dense_1 (<span style=\"color: #0087ff; text-decoration-color: #0087ff\">Dense</span>)                      │ (<span style=\"color: #00d7ff; text-decoration-color: #00d7ff\">None</span>, <span style=\"color: #00af00; text-decoration-color: #00af00\">1</span>)                   │             <span style=\"color: #00af00; text-decoration-color: #00af00\">129</span> │\n",
              "└──────────────────────────────────────┴─────────────────────────────┴─────────────────┘\n",
              "</pre>\n"
            ]
          },
          "metadata": {}
        },
        {
          "output_type": "display_data",
          "data": {
            "text/plain": [
              "\u001b[1m Total params: \u001b[0m\u001b[38;5;34m5,109,553\u001b[0m (19.49 MB)\n"
            ],
            "text/html": [
              "<pre style=\"white-space:pre;overflow-x:auto;line-height:normal;font-family:Menlo,'DejaVu Sans Mono',consolas,'Courier New',monospace\"><span style=\"font-weight: bold\"> Total params: </span><span style=\"color: #00af00; text-decoration-color: #00af00\">5,109,553</span> (19.49 MB)\n",
              "</pre>\n"
            ]
          },
          "metadata": {}
        },
        {
          "output_type": "display_data",
          "data": {
            "text/plain": [
              "\u001b[1m Trainable params: \u001b[0m\u001b[38;5;34m5,109,553\u001b[0m (19.49 MB)\n"
            ],
            "text/html": [
              "<pre style=\"white-space:pre;overflow-x:auto;line-height:normal;font-family:Menlo,'DejaVu Sans Mono',consolas,'Courier New',monospace\"><span style=\"font-weight: bold\"> Trainable params: </span><span style=\"color: #00af00; text-decoration-color: #00af00\">5,109,553</span> (19.49 MB)\n",
              "</pre>\n"
            ]
          },
          "metadata": {}
        },
        {
          "output_type": "display_data",
          "data": {
            "text/plain": [
              "\u001b[1m Non-trainable params: \u001b[0m\u001b[38;5;34m0\u001b[0m (0.00 B)\n"
            ],
            "text/html": [
              "<pre style=\"white-space:pre;overflow-x:auto;line-height:normal;font-family:Menlo,'DejaVu Sans Mono',consolas,'Courier New',monospace\"><span style=\"font-weight: bold\"> Non-trainable params: </span><span style=\"color: #00af00; text-decoration-color: #00af00\">0</span> (0.00 B)\n",
              "</pre>\n"
            ]
          },
          "metadata": {}
        }
      ]
    },
    {
      "cell_type": "markdown",
      "source": [
        "# Define the optimizer and loss:"
      ],
      "metadata": {
        "id": "VnzM4zNKFezu"
      }
    },
    {
      "cell_type": "code",
      "source": [
        "#define optimizer and loss\n",
        "model.compile(optimizer='adam', loss='binary_crossentropy', metrics=['accuracy'])"
      ],
      "metadata": {
        "id": "KVReYHfKFf01"
      },
      "execution_count": null,
      "outputs": []
    },
    {
      "cell_type": "markdown",
      "source": [
        "Define a callback - Model Checkpoint. Model Checkpoint is a callback used to save the best model during training."
      ],
      "metadata": {
        "id": "EoUdcR-hGeSL"
      }
    },
    {
      "cell_type": "code",
      "source": [
        "from tensorflow.keras.callbacks import ModelCheckpoint\n",
        "\n",
        "# Save the model to a file called 'best_model.h5'\n",
        "mc = ModelCheckpoint('best_model.h5', monitor='val_loss', mode='min', save_best_only=True, verbose=1)"
      ],
      "metadata": {
        "id": "5Jw37BQ3GfCN"
      },
      "execution_count": null,
      "outputs": []
    },
    {
      "cell_type": "markdown",
      "source": [
        "# Train the Model\n",
        "\n",
        "Lets train the model for 10 epochs with a batch size of 64:"
      ],
      "metadata": {
        "id": "0YoMGARPFkqH"
      }
    },
    {
      "cell_type": "code",
      "source": [
        "#train the model\n",
        "history=model.fit(X_train, y_train, batch_size=64, epochs=10, verbose=1, validation_data=(X_test,y_test), callbacks=[mc])"
      ],
      "metadata": {
        "colab": {
          "base_uri": "https://localhost:8080/"
        },
        "id": "2qnDGeZ6FtTt",
        "outputId": "c97a31bd-ab4e-4a5b-bbe5-30e7c82dd96a"
      },
      "execution_count": null,
      "outputs": [
        {
          "output_type": "stream",
          "name": "stdout",
          "text": [
            "Epoch 1/10\n",
            "\u001b[1m625/625\u001b[0m \u001b[32m━━━━━━━━━━━━━━━━━━━━\u001b[0m\u001b[37m\u001b[0m \u001b[1m0s\u001b[0m 18ms/step - accuracy: 0.5994 - loss: 0.7981\n",
            "Epoch 1: val_loss improved from inf to 0.56209, saving model to best_model.h5\n"
          ]
        },
        {
          "output_type": "stream",
          "name": "stderr",
          "text": [
            "WARNING:absl:You are saving your model as an HDF5 file via `model.save()` or `keras.saving.save_model(model)`. This file format is considered legacy. We recommend using instead the native Keras format, e.g. `model.save('my_model.keras')` or `keras.saving.save_model(model, 'my_model.keras')`. \n"
          ]
        },
        {
          "output_type": "stream",
          "name": "stdout",
          "text": [
            "\b\b\b\b\b\b\b\b\b\b\b\b\b\b\b\b\b\b\b\b\b\b\b\b\b\b\b\b\b\b\b\b\b\b\b\b\b\b\b\b\b\b\b\b\b\b\b\b\b\b\b\b\b\b\b\b\b\b\b\b\b\b\b\b\b\b\b\b\b\b\b\b\b\b\b\r\u001b[1m625/625\u001b[0m \u001b[32m━━━━━━━━━━━━━━━━━━━━\u001b[0m\u001b[37m\u001b[0m \u001b[1m17s\u001b[0m 21ms/step - accuracy: 0.5995 - loss: 0.7980 - val_accuracy: 0.6881 - val_loss: 0.5621\n",
            "Epoch 2/10\n",
            "\u001b[1m623/625\u001b[0m \u001b[32m━━━━━━━━━━━━━━━━━━━\u001b[0m\u001b[37m━\u001b[0m \u001b[1m0s\u001b[0m 18ms/step - accuracy: 0.8066 - loss: 0.4164\n",
            "Epoch 2: val_loss improved from 0.56209 to 0.33788, saving model to best_model.h5\n"
          ]
        },
        {
          "output_type": "stream",
          "name": "stderr",
          "text": [
            "WARNING:absl:You are saving your model as an HDF5 file via `model.save()` or `keras.saving.save_model(model)`. This file format is considered legacy. We recommend using instead the native Keras format, e.g. `model.save('my_model.keras')` or `keras.saving.save_model(model, 'my_model.keras')`. \n"
          ]
        },
        {
          "output_type": "stream",
          "name": "stdout",
          "text": [
            "\b\b\b\b\b\b\b\b\b\b\b\b\b\b\b\b\b\b\b\b\b\b\b\b\b\b\b\b\b\b\b\b\b\b\b\b\b\b\b\b\b\b\b\b\b\b\b\b\b\b\b\b\b\b\b\b\b\b\b\b\b\b\b\b\b\b\b\b\b\b\b\b\b\b\b\r\u001b[1m625/625\u001b[0m \u001b[32m━━━━━━━━━━━━━━━━━━━━\u001b[0m\u001b[37m\u001b[0m \u001b[1m18s\u001b[0m 20ms/step - accuracy: 0.8066 - loss: 0.4163 - val_accuracy: 0.8607 - val_loss: 0.3379\n",
            "Epoch 3/10\n",
            "\u001b[1m623/625\u001b[0m \u001b[32m━━━━━━━━━━━━━━━━━━━\u001b[0m\u001b[37m━\u001b[0m \u001b[1m0s\u001b[0m 18ms/step - accuracy: 0.8478 - loss: 0.7590\n",
            "Epoch 3: val_loss did not improve from 0.33788\n",
            "\u001b[1m625/625\u001b[0m \u001b[32m━━━━━━━━━━━━━━━━━━━━\u001b[0m\u001b[37m\u001b[0m \u001b[1m20s\u001b[0m 19ms/step - accuracy: 0.8474 - loss: 0.7604 - val_accuracy: 0.6500 - val_loss: 0.6177\n",
            "Epoch 4/10\n",
            "\u001b[1m623/625\u001b[0m \u001b[32m━━━━━━━━━━━━━━━━━━━\u001b[0m\u001b[37m━\u001b[0m \u001b[1m0s\u001b[0m 18ms/step - accuracy: 0.7165 - loss: 0.5607\n",
            "Epoch 4: val_loss did not improve from 0.33788\n",
            "\u001b[1m625/625\u001b[0m \u001b[32m━━━━━━━━━━━━━━━━━━━━\u001b[0m\u001b[37m\u001b[0m \u001b[1m21s\u001b[0m 20ms/step - accuracy: 0.7165 - loss: 0.5606 - val_accuracy: 0.6516 - val_loss: 0.6232\n",
            "Epoch 5/10\n",
            "\u001b[1m625/625\u001b[0m \u001b[32m━━━━━━━━━━━━━━━━━━━━\u001b[0m\u001b[37m\u001b[0m \u001b[1m0s\u001b[0m 18ms/step - accuracy: 0.7591 - loss: 0.4834\n",
            "Epoch 5: val_loss did not improve from 0.33788\n",
            "\u001b[1m625/625\u001b[0m \u001b[32m━━━━━━━━━━━━━━━━━━━━\u001b[0m\u001b[37m\u001b[0m \u001b[1m12s\u001b[0m 20ms/step - accuracy: 0.7591 - loss: 0.4835 - val_accuracy: 0.6339 - val_loss: 0.6371\n",
            "Epoch 6/10\n",
            "\u001b[1m625/625\u001b[0m \u001b[32m━━━━━━━━━━━━━━━━━━━━\u001b[0m\u001b[37m\u001b[0m \u001b[1m0s\u001b[0m 18ms/step - accuracy: 0.7599 - loss: 11.5687\n",
            "Epoch 6: val_loss did not improve from 0.33788\n",
            "\u001b[1m625/625\u001b[0m \u001b[32m━━━━━━━━━━━━━━━━━━━━\u001b[0m\u001b[37m\u001b[0m \u001b[1m12s\u001b[0m 19ms/step - accuracy: 0.7599 - loss: 11.5918 - val_accuracy: 0.6790 - val_loss: 0.6200\n",
            "Epoch 7/10\n",
            "\u001b[1m625/625\u001b[0m \u001b[32m━━━━━━━━━━━━━━━━━━━━\u001b[0m\u001b[37m\u001b[0m \u001b[1m0s\u001b[0m 18ms/step - accuracy: 0.7664 - loss: 9.8375\n",
            "Epoch 7: val_loss did not improve from 0.33788\n",
            "\u001b[1m625/625\u001b[0m \u001b[32m━━━━━━━━━━━━━━━━━━━━\u001b[0m\u001b[37m\u001b[0m \u001b[1m12s\u001b[0m 19ms/step - accuracy: 0.7663 - loss: 9.8386 - val_accuracy: 0.6773 - val_loss: 0.5958\n",
            "Epoch 8/10\n",
            "\u001b[1m623/625\u001b[0m \u001b[32m━━━━━━━━━━━━━━━━━━━\u001b[0m\u001b[37m━\u001b[0m \u001b[1m0s\u001b[0m 18ms/step - accuracy: 0.7808 - loss: 0.4763\n",
            "Epoch 8: val_loss did not improve from 0.33788\n",
            "\u001b[1m625/625\u001b[0m \u001b[32m━━━━━━━━━━━━━━━━━━━━\u001b[0m\u001b[37m\u001b[0m \u001b[1m21s\u001b[0m 19ms/step - accuracy: 0.7809 - loss: 0.4763 - val_accuracy: 0.7114 - val_loss: 0.5633\n",
            "Epoch 9/10\n",
            "\u001b[1m624/625\u001b[0m \u001b[32m━━━━━━━━━━━━━━━━━━━\u001b[0m\u001b[37m━\u001b[0m \u001b[1m0s\u001b[0m 18ms/step - accuracy: 0.8219 - loss: 0.4074\n",
            "Epoch 9: val_loss did not improve from 0.33788\n",
            "\u001b[1m625/625\u001b[0m \u001b[32m━━━━━━━━━━━━━━━━━━━━\u001b[0m\u001b[37m\u001b[0m \u001b[1m20s\u001b[0m 19ms/step - accuracy: 0.8220 - loss: 0.4073 - val_accuracy: 0.7533 - val_loss: 0.5099\n",
            "Epoch 10/10\n",
            "\u001b[1m625/625\u001b[0m \u001b[32m━━━━━━━━━━━━━━━━━━━━\u001b[0m\u001b[37m\u001b[0m \u001b[1m0s\u001b[0m 18ms/step - accuracy: 0.8615 - loss: 0.3265\n",
            "Epoch 10: val_loss did not improve from 0.33788\n",
            "\u001b[1m625/625\u001b[0m \u001b[32m━━━━━━━━━━━━━━━━━━━━\u001b[0m\u001b[37m\u001b[0m \u001b[1m12s\u001b[0m 19ms/step - accuracy: 0.8615 - loss: 0.3265 - val_accuracy: 0.7858 - val_loss: 0.4731\n"
          ]
        }
      ]
    },
    {
      "cell_type": "markdown",
      "source": [
        "# Evaluate the Model"
      ],
      "metadata": {
        "id": "jO_jrsQdIvnJ"
      }
    },
    {
      "cell_type": "code",
      "source": [
        "from tensorflow.keras.models import load_model\n",
        "\n",
        "# Load the saved model\n",
        "model = load_model('best_model.h5')\n",
        "\n",
        "# Evaluate the model on the test set\n",
        "loss, accuracy = model.evaluate(X_test, y_test)\n",
        "print(f'Test Accuracy: {accuracy:.4f}')"
      ],
      "metadata": {
        "colab": {
          "base_uri": "https://localhost:8080/"
        },
        "id": "epcDRXq2IvM5",
        "outputId": "1cb6bd45-b8c4-4371-99e8-ad2c7bdd1dee"
      },
      "execution_count": null,
      "outputs": [
        {
          "output_type": "stream",
          "name": "stderr",
          "text": [
            "WARNING:absl:Compiled the loaded model, but the compiled metrics have yet to be built. `model.compile_metrics` will be empty until you train or evaluate the model.\n"
          ]
        },
        {
          "output_type": "stream",
          "name": "stdout",
          "text": [
            "\u001b[1m313/313\u001b[0m \u001b[32m━━━━━━━━━━━━━━━━━━━━\u001b[0m\u001b[37m\u001b[0m \u001b[1m3s\u001b[0m 6ms/step - accuracy: 0.8575 - loss: 0.3437\n",
            "Test Accuracy: 0.8607\n"
          ]
        }
      ]
    },
    {
      "cell_type": "markdown",
      "source": [
        "Accuracy of the model is 86% which is significantly good for testing furthur. (Note: The accuracy varied a little each time of execution)"
      ],
      "metadata": {
        "id": "1ar1mEcpOiuq"
      }
    },
    {
      "cell_type": "markdown",
      "source": [
        "# Plot the Accuracy and Loss"
      ],
      "metadata": {
        "id": "TIvAS748JKdY"
      }
    },
    {
      "cell_type": "code",
      "source": [
        "import matplotlib.pyplot as plt\n",
        "\n",
        "# Plot accuracy\n",
        "plt.figure(figsize=(12, 4))\n",
        "plt.subplot(1, 2, 1)\n",
        "plt.plot(history.history['accuracy'], label='Train Accuracy')\n",
        "plt.plot(history.history['val_accuracy'], label='Validation Accuracy')\n",
        "plt.xlabel('Epochs')\n",
        "plt.ylabel('Accuracy')\n",
        "plt.legend()\n",
        "\n",
        "# Plot loss\n",
        "plt.subplot(1, 2, 2)\n",
        "plt.plot(history.history['loss'], label='Train Loss')\n",
        "plt.plot(history.history['val_loss'], label='Validation Loss')\n",
        "plt.xlabel('Epochs')\n",
        "plt.ylabel('Loss')\n",
        "plt.legend()\n",
        "\n",
        "plt.show()"
      ],
      "metadata": {
        "colab": {
          "base_uri": "https://localhost:8080/",
          "height": 388
        },
        "id": "JTYvLOPaJLYt",
        "outputId": "0f13712a-0200-4223-db0d-c770255ab16c"
      },
      "execution_count": null,
      "outputs": [
        {
          "output_type": "display_data",
          "data": {
            "text/plain": [
              "<Figure size 1200x400 with 2 Axes>"
            ],
            "image/png": "[encoded data removed]"
          },
          "metadata": {}
        }
      ]
    },
    {
      "cell_type": "markdown",
      "source": [
        "The graphs of accuracy and loss display some inconsistencies. The **training loss increases** between the **4th and 6th epochs**, while the **accuracy drops** between the **2nd and 4th epochs**. However, the model appears to **recover and resumes learning** afterward.\n",
        "\n",
        "The noticeable **gap between training and validation accuracy** indicates that the model has started to **overfit**. This suggests that the model is learning the training data too well, but its generalization capability on unseen data is decreasing.\n",
        "\n",
        "This behavior could be interpreted as a limitation of the **RNN’s short-term memory**, causing it to **lose efficiency in retaining information over longer sequences**."
      ],
      "metadata": {
        "id": "fFlq6O4FOydA"
      }
    },
    {
      "cell_type": "markdown",
      "source": [
        "# Testing"
      ],
      "metadata": {
        "id": "DAbSxBriK5dy"
      }
    },
    {
      "cell_type": "code",
      "source": [
        "# Random test samples\n",
        "test_reviews = [\n",
        "    \"The movie was absolutely fantastic! I loved it.\",\n",
        "    \"It was the worst film I have ever seen. Total waste of time.\",\n",
        "    \"The acting was mediocre but the storyline was great.\",\n",
        "    \"I don't think I'll recommend this product to anyone.\",\n",
        "    \"Absolutely brilliant! Highly recommended.\"\n",
        "]\n",
        "\n",
        "# Preprocess the random text\n",
        "test_sequences = tokenizer.texts_to_sequences(test_reviews)\n",
        "test_padded = pad_sequences(test_sequences, maxlen=200, padding='post')\n",
        "\n",
        "# Make predictions\n",
        "predictions = model.predict(test_padded)\n",
        "\n",
        "# Interpret results\n",
        "for i, review in enumerate(test_reviews):\n",
        "    sentiment = \"Positive\" if predictions[i][0] > 0.5 else \"Negative\"\n",
        "    print(f\"Review: {review}\")\n",
        "    print(f\"Prediction: {predictions[i][0]:.4f} → {sentiment}\")\n",
        "    print('-' * 60)"
      ],
      "metadata": {
        "colab": {
          "base_uri": "https://localhost:8080/"
        },
        "id": "K5b1As7KKoRA",
        "outputId": "03354815-3c32-4ed6-d2c2-4bfc5698c133"
      },
      "execution_count": null,
      "outputs": [
        {
          "output_type": "stream",
          "name": "stdout",
          "text": [
            "\u001b[1m1/1\u001b[0m \u001b[32m━━━━━━━━━━━━━━━━━━━━\u001b[0m\u001b[37m\u001b[0m \u001b[1m1s\u001b[0m 548ms/step\n",
            "Review: The movie was absolutely fantastic! I loved it.\n",
            "Prediction: 0.9772 → Positive\n",
            "------------------------------------------------------------\n",
            "Review: It was the worst film I have ever seen. Total waste of time.\n",
            "Prediction: 0.0427 → Negative\n",
            "------------------------------------------------------------\n",
            "Review: The acting was mediocre but the storyline was great.\n",
            "Prediction: 0.6309 → Positive\n",
            "------------------------------------------------------------\n",
            "Review: I don't think I'll recommend this product to anyone.\n",
            "Prediction: 0.7907 → Positive\n",
            "------------------------------------------------------------\n",
            "Review: Absolutely brilliant! Highly recommended.\n",
            "Prediction: 0.9981 → Positive\n",
            "------------------------------------------------------------\n"
          ]
        }
      ]
    },
    {
      "cell_type": "markdown",
      "source": [
        "We can see that the model could predict 80% of the data accurately."
      ],
      "metadata": {
        "id": "-MyFPw2wQ2XF"
      }
    },
    {
      "cell_type": "markdown",
      "source": [
        "# Training on Metacritic reviews dataset"
      ],
      "metadata": {
        "id": "-30xCEmx798U"
      }
    },
    {
      "cell_type": "code",
      "source": [
        "# Google Drive file ID\n",
        "file_id = \"1lcNIeBdOHxjbr8i30WrAhnuDqXo84m7Q\"\n",
        "output = \"data.csv\"  # Name to save the file\n",
        "\n",
        "# Construct the direct download URL\n",
        "url = f\"https://drive.google.com/uc?id={file_id}\"\n",
        "\n",
        "# Download the file\n",
        "gdown.download(url, output, quiet=False)\n",
        "\n",
        "# Read the CSV file\n",
        "test_data = pd.read_csv(output)\n",
        "\n",
        "# Display the first few rows\n",
        "print(test_data.head())"
      ],
      "metadata": {
        "colab": {
          "base_uri": "https://localhost:8080/"
        },
        "id": "9hcj_rcn781i",
        "outputId": "0f39890e-4ae0-413a-b4b0-0140e376bd4c"
      },
      "execution_count": null,
      "outputs": [
        {
          "output_type": "stream",
          "name": "stderr",
          "text": [
            "Downloading...\n",
            "From: https://drive.google.com/uc?id=1lcNIeBdOHxjbr8i30WrAhnuDqXo84m7Q\n",
            "To: /content/data.csv\n",
            "100%|██████████| 4.42k/4.42k [00:00<00:00, 9.74MB/s]"
          ]
        },
        {
          "output_type": "stream",
          "name": "stdout",
          "text": [
            "             Movie  \\\n",
            "0        Inception   \n",
            "1  The Dark Knight   \n",
            "2       La La Land   \n",
            "3             Cats   \n",
            "4    The Godfather   \n",
            "\n",
            "                                                                              Review  \\\n",
            "0          An absolutely mind-bending and thrilling experience. Nolan's masterpiece.   \n",
            "1  Brilliant performance by Heath Ledger. Gripping and intense from start to finish.   \n",
            "2      A heartwarming musical with stellar performances and stunning cinematography.   \n",
            "3                  A complete disaster. Poor CGI, weak plot, and bizarre characters.   \n",
            "4     One of the greatest films of all time. Powerful performances and storytelling.   \n",
            "\n",
            "  Sentiment  \n",
            "0  Positive  \n",
            "1  Positive  \n",
            "2  Positive  \n",
            "3  Negative  \n",
            "4  Positive  \n"
          ]
        },
        {
          "output_type": "stream",
          "name": "stderr",
          "text": [
            "\n"
          ]
        }
      ]
    },
    {
      "cell_type": "markdown",
      "source": [
        "# Preprocessing"
      ],
      "metadata": {
        "id": "JrctgKOZ8MSq"
      }
    },
    {
      "cell_type": "code",
      "source": [
        "# Apply the same cleaning function\n",
        "test_data['cleaned_text'] = test_data['Review'].apply(cleaner)\n",
        "\n",
        "# Tokenize the text using the same tokenizer\n",
        "test_sequences = tokenizer.texts_to_sequences(test_data['cleaned_text'])\n",
        "\n",
        "# Pad the sequences to match the model's input size\n",
        "X_test_padded = pad_sequences(test_sequences, maxlen=200, padding='post')\n",
        "\n",
        "# Map true labels to 0 and 1 for consistency\n",
        "label_mapping = {'Negative': 0, 'Positive': 1}\n",
        "test_data['sentiment_encoded'] = test_data['Sentiment'].map(label_mapping)"
      ],
      "metadata": {
        "id": "2n7p1mOQ8DAK"
      },
      "execution_count": null,
      "outputs": []
    },
    {
      "cell_type": "markdown",
      "source": [
        "# Make Predictions"
      ],
      "metadata": {
        "id": "R0a6XR2m8aEc"
      }
    },
    {
      "cell_type": "code",
      "source": [
        "# 🚀 Make predictions\n",
        "predictions = model.predict(X_test_padded)\n",
        "\n",
        "# 🔥 Convert probabilities to binary labels\n",
        "test_data['predicted_sentiment'] = (predictions >= 0.5).astype(int)"
      ],
      "metadata": {
        "colab": {
          "base_uri": "https://localhost:8080/"
        },
        "id": "mByfbPcY8cwj",
        "outputId": "7afb6fcf-6296-44e8-9a1c-a90d0ccdc7e5"
      },
      "execution_count": null,
      "outputs": [
        {
          "output_type": "stream",
          "name": "stdout",
          "text": [
            "\u001b[1m2/2\u001b[0m \u001b[32m━━━━━━━━━━━━━━━━━━━━\u001b[0m\u001b[37m\u001b[0m \u001b[1m1s\u001b[0m 409ms/step\n"
          ]
        }
      ]
    },
    {
      "cell_type": "markdown",
      "source": [
        "# Evaluating the model performance"
      ],
      "metadata": {
        "id": "yPFQ1Iyc8lKO"
      }
    },
    {
      "cell_type": "code",
      "source": [
        "from sklearn.metrics import accuracy_score, classification_report, confusion_matrix\n",
        "# ✅ Calculate accuracy\n",
        "accuracy = accuracy_score(test_data['sentiment_encoded'], test_data['predicted_sentiment'])\n",
        "print(f\"\\n✅ Model Accuracy on New Test Data: {accuracy:.4f}\")\n",
        "\n",
        "# 📊 Display a detailed classification report\n",
        "print(\"\\n📊 Classification Report:\\n\")\n",
        "print(classification_report(test_data['sentiment_encoded'], test_data['predicted_sentiment']))\n",
        "\n",
        "# 🛑 Display confusion matrix\n",
        "print(\"\\n🛑 Confusion Matrix:\\n\")\n",
        "print(confusion_matrix(test_data['sentiment_encoded'], test_data['predicted_sentiment']))"
      ],
      "metadata": {
        "colab": {
          "base_uri": "https://localhost:8080/"
        },
        "id": "qULd3lMq8kft",
        "outputId": "a989e06c-5964-4e6b-f42b-84ad34c4147e"
      },
      "execution_count": null,
      "outputs": [
        {
          "output_type": "stream",
          "name": "stdout",
          "text": [
            "\n",
            "✅ Model Accuracy on New Test Data: 0.6167\n",
            "\n",
            "📊 Classification Report:\n",
            "\n",
            "              precision    recall  f1-score   support\n",
            "\n",
            "           0       1.00      0.12      0.21        26\n",
            "           1       0.60      1.00      0.75        34\n",
            "\n",
            "    accuracy                           0.62        60\n",
            "   macro avg       0.80      0.56      0.48        60\n",
            "weighted avg       0.77      0.62      0.51        60\n",
            "\n",
            "\n",
            "🛑 Confusion Matrix:\n",
            "\n",
            "[[ 3 23]\n",
            " [ 0 34]]\n"
          ]
        }
      ]
    },
    {
      "cell_type": "markdown",
      "source": [
        "**Training Results:**\n",
        "- ✅ Accuracy: **0.8575**\n",
        "- ✅ Loss: **0.3437**\n",
        "- ✅ Test Accuracy: **0.8607**\n",
        "\n",
        "**Evaluation on External Test Data:**\n",
        "- ✅ Model Accuracy: **0.6167**\n",
        "\n",
        "📊 **Classification Report:**\n",
        "```\n",
        "              precision    recall  f1-score   support\n",
        "           0       1.00      0.12      0.21        26  \n",
        "           1       0.60      1.00      0.75        34  \n",
        "\n",
        "    accuracy                           0.62        60  \n",
        "   macro avg       0.80      0.56      0.48        60  \n",
        "weighted avg       0.77      0.62      0.51        60  \n",
        "```\n",
        "\n",
        "🛑 **Confusion Matrix:**\n",
        "```\n",
        "[[ 3 23]  \n",
        " [ 0 34]]  \n",
        "```\n",
        "\n",
        "### **📌 Interpretation:**\n",
        "- The **basic RNN model** performed well on the **IMDB dataset** but struggled with generalization on the **synthetic Metacritic dataset**.  \n",
        "- The **recall** for positive reviews was high (**1.00**), but **precision for negative reviews** was poor (**0.12**), indicating it struggled to classify negative reviews correctly.  \n",
        "- The confusion matrix shows **23 false positives**, highlighting misclassification of negative reviews.  \n",
        "\n",
        "---"
      ],
      "metadata": {
        "id": "tMuAyVjqT-D3"
      }
    },
    {
      "cell_type": "markdown",
      "source": [
        "# 📊 **RNN Hyperparameter Tuning**"
      ],
      "metadata": {
        "id": "gkUbQzXsJPD2"
      }
    },
    {
      "cell_type": "code",
      "source": [
        "#Using KerasTuner for Automated Hyperparameter Tuning\n",
        "!pip install keras-tuner"
      ],
      "metadata": {
        "colab": {
          "base_uri": "https://localhost:8080/"
        },
        "id": "0tvxlsa8MbF6",
        "outputId": "409f32ec-fe5f-42a6-f638-e2338e0431ad"
      },
      "execution_count": null,
      "outputs": [
        {
          "output_type": "stream",
          "name": "stdout",
          "text": [
            "Collecting keras-tuner\n",
            "  Downloading keras_tuner-1.4.7-py3-none-any.whl.metadata (5.4 kB)\n",
            "Requirement already satisfied: keras in /usr/local/lib/python3.11/dist-packages (from keras-tuner) (3.8.0)\n",
            "Requirement already satisfied: packaging in /usr/local/lib/python3.11/dist-packages (from keras-tuner) (24.2)\n",
            "Requirement already satisfied: requests in /usr/local/lib/python3.11/dist-packages (from keras-tuner) (2.32.3)\n",
            "Collecting kt-legacy (from keras-tuner)\n",
            "  Downloading kt_legacy-1.0.5-py3-none-any.whl.metadata (221 bytes)\n",
            "Requirement already satisfied: absl-py in /usr/local/lib/python3.11/dist-packages (from keras->keras-tuner) (1.4.0)\n",
            "Requirement already satisfied: numpy in /usr/local/lib/python3.11/dist-packages (from keras->keras-tuner) (2.0.2)\n",
            "Requirement already satisfied: rich in /usr/local/lib/python3.11/dist-packages (from keras->keras-tuner) (13.9.4)\n",
            "Requirement already satisfied: namex in /usr/local/lib/python3.11/dist-packages (from keras->keras-tuner) (0.0.8)\n",
            "Requirement already satisfied: h5py in /usr/local/lib/python3.11/dist-packages (from keras->keras-tuner) (3.13.0)\n",
            "Requirement already satisfied: optree in /usr/local/lib/python3.11/dist-packages (from keras->keras-tuner) (0.14.1)\n",
            "Requirement already satisfied: ml-dtypes in /usr/local/lib/python3.11/dist-packages (from keras->keras-tuner) (0.4.1)\n",
            "Requirement already satisfied: charset-normalizer<4,>=2 in /usr/local/lib/python3.11/dist-packages (from requests->keras-tuner) (3.4.1)\n",
            "Requirement already satisfied: idna<4,>=2.5 in /usr/local/lib/python3.11/dist-packages (from requests->keras-tuner) (3.10)\n",
            "Requirement already satisfied: urllib3<3,>=1.21.1 in /usr/local/lib/python3.11/dist-packages (from requests->keras-tuner) (2.3.0)\n",
            "Requirement already satisfied: certifi>=2017.4.17 in /usr/local/lib/python3.11/dist-packages (from requests->keras-tuner) (2025.1.31)\n",
            "Requirement already satisfied: typing-extensions>=4.5.0 in /usr/local/lib/python3.11/dist-packages (from optree->keras->keras-tuner) (4.12.2)\n",
            "Requirement already satisfied: markdown-it-py>=2.2.0 in /usr/local/lib/python3.11/dist-packages (from rich->keras->keras-tuner) (3.0.0)\n",
            "Requirement already satisfied: pygments<3.0.0,>=2.13.0 in /usr/local/lib/python3.11/dist-packages (from rich->keras->keras-tuner) (2.18.0)\n",
            "Requirement already satisfied: mdurl~=0.1 in /usr/local/lib/python3.11/dist-packages (from markdown-it-py>=2.2.0->rich->keras->keras-tuner) (0.1.2)\n",
            "Downloading keras_tuner-1.4.7-py3-none-any.whl (129 kB)\n",
            "\u001b[2K   \u001b[90m━━━━━━━━━━━━━━━━━━━━━━━━━━━━━━━━━━━━━━━━\u001b[0m \u001b[32m129.1/129.1 kB\u001b[0m \u001b[31m5.1 MB/s\u001b[0m eta \u001b[36m0:00:00\u001b[0m\n",
            "\u001b[?25hDownloading kt_legacy-1.0.5-py3-none-any.whl (9.6 kB)\n",
            "Installing collected packages: kt-legacy, keras-tuner\n",
            "Successfully installed keras-tuner-1.4.7 kt-legacy-1.0.5\n"
          ]
        }
      ]
    },
    {
      "cell_type": "markdown",
      "source": [
        "# Tuning Code"
      ],
      "metadata": {
        "id": "wre-XRjdMm20"
      }
    },
    {
      "cell_type": "code",
      "source": [
        "import keras_tuner as kt\n",
        "from tensorflow.keras.models import Sequential\n",
        "from tensorflow.keras.layers import Embedding, SimpleRNN, Dense, Dropout\n",
        "import tensorflow as tf\n",
        "\n",
        "# Define the model-building function\n",
        "def build_model(hp):\n",
        "    model2 = Sequential()\n",
        "\n",
        "    # Hyperparameter options\n",
        "    vocab_size = len(tokenizer.word_index) + 1\n",
        "    embedding_dim = hp.Int('embedding_dim', min_value=64, max_value=256, step=64)\n",
        "    rnn_units = hp.Int('rnn_units', min_value=64, max_value=256, step=64)\n",
        "    dropout_rate = hp.Float('dropout_rate', min_value=0.2, max_value=0.5, step=0.1)\n",
        "\n",
        "    # Model architecture\n",
        "    model2.add(Embedding(input_dim=vocab_size, output_dim=embedding_dim, input_length=200))\n",
        "\n",
        "    # Use return_sequences=True in the first RNN layer to stack them properly\n",
        "    model2.add(SimpleRNN(units=rnn_units, return_sequences=True))\n",
        "    model2.add(Dropout(dropout_rate))  # ✅ Fixed variable name\n",
        "\n",
        "    model2.add(SimpleRNN(units=rnn_units, return_sequences=False))\n",
        "    model2.add(Dropout(dropout_rate))  # ✅ Fixed variable name\n",
        "\n",
        "    model2.add(Dense(64, activation='relu'))\n",
        "    model2.add(Dropout(dropout_rate))\n",
        "    model2.add(Dense(1, activation='sigmoid'))\n",
        "\n",
        "    # Compile the model\n",
        "    learning_rate = hp.Choice('learning_rate', values=[0.001, 0.0005, 0.0001])\n",
        "    model2.compile(optimizer=tf.keras.optimizers.Adam(learning_rate=learning_rate),\n",
        "                  loss='binary_crossentropy',\n",
        "                  metrics=['accuracy'])\n",
        "\n",
        "    return model2"
      ],
      "metadata": {
        "id": "d4aGX3pyMfOn"
      },
      "execution_count": null,
      "outputs": []
    },
    {
      "cell_type": "code",
      "source": [
        "\n",
        "# Initialize the tuner\n",
        "tuner = kt.RandomSearch(\n",
        "    build_model,\n",
        "    objective='val_accuracy',\n",
        "    max_trials=3,            # Try 3 different sets of hyperparameters\n",
        "    executions_per_trial=2,  # Run each set twice for stability\n",
        "    directory='rnn_tuning',\n",
        "    project_name='imdb_sentiment'\n",
        ")\n"
      ],
      "metadata": {
        "colab": {
          "base_uri": "https://localhost:8080/"
        },
        "id": "k0ooHnhzMtUo",
        "outputId": "de04ee0c-d132-4679-dfca-0b971e61171b"
      },
      "execution_count": null,
      "outputs": [
        {
          "output_type": "stream",
          "name": "stderr",
          "text": [
            "/usr/local/lib/python3.11/dist-packages/keras/src/layers/core/embedding.py:90: UserWarning: Argument `input_length` is deprecated. Just remove it.\n",
            "  warnings.warn(\n"
          ]
        }
      ]
    },
    {
      "cell_type": "code",
      "source": [
        "# Perform hyperparameter search\n",
        "tuner.search(X_train, y_train, epochs=5, validation_data=(X_test, y_test), batch_size=64)\n",
        "\n",
        "# Get the best hyperparameters\n",
        "best_hps = tuner.get_best_hyperparameters(num_trials=1)[0]\n",
        "\n",
        "print(f\"\"\"\n",
        "✅ Best Hyperparameters:\n",
        "- Embedding Dim: {best_hps.get('embedding_dim')}\n",
        "- RNN Units: {best_hps.get('rnn_units')}\n",
        "- Dropout Rate: {best_hps.get('dropout_rate')}\n",
        "- Learning Rate: {best_hps.get('learning_rate')}\n",
        "\"\"\")"
      ],
      "metadata": {
        "colab": {
          "base_uri": "https://localhost:8080/"
        },
        "id": "DvTi_FxsM32f",
        "outputId": "e6c113e8-ca28-4c65-b74d-04860f2ac0c3"
      },
      "execution_count": null,
      "outputs": [
        {
          "output_type": "stream",
          "name": "stdout",
          "text": [
            "Trial 3 Complete [00h 06m 27s]\n",
            "val_accuracy: 0.5060499906539917\n",
            "\n",
            "Best val_accuracy So Far: 0.6065499782562256\n",
            "Total elapsed time: 00h 15m 54s\n",
            "\n",
            "✅ Best Hyperparameters:\n",
            "- Embedding Dim: 64\n",
            "- RNN Units: 64\n",
            "- Dropout Rate: 0.30000000000000004\n",
            "- Learning Rate: 0.0001\n",
            "\n"
          ]
        }
      ]
    },
    {
      "cell_type": "markdown",
      "source": [
        "✅The code performs **hyperparameter tuning** on an RNN model for **sentiment analysis**, testing different combinations of **embedding dimensions, RNN units, dropout rates, and learning rates**. Using `KerasTuner`, it identifies the **best-performing configuration** to maximize validation accuracy, helping optimize the model’s effectiveness before full training.  \n",
        "Here, we calculated the **best hyperparameters** to tune the model. Although the best combination may change slightly with each execution due to randomness, the identified hyperparameters can still be **implemented and tested** for consistent improvements.\n",
        "\n",
        "---\n",
        "\n",
        "### 🔥 **Observations:**  \n",
        "1. The **best validation accuracy** achieved was **60.65%**, with smaller RNN units (64) and a moderate dropout rate (0.3), which helped prevent overfitting.  \n",
        "2. A **low learning rate (0.0001)** resulted in more stable convergence, improving performance.  \n",
        "3. The model benefits from **fewer RNN units**, suggesting that larger architectures might lead to overfitting.  \n",
        "4. **Further training** with the best hyperparameters is required to fully utilize the model's potential. 🚀"
      ],
      "metadata": {
        "id": "d6IaW4bbUHTl"
      }
    },
    {
      "cell_type": "markdown",
      "source": [
        "# Train the Model with Best Hyperparameters calculated : Model 2"
      ],
      "metadata": {
        "id": "BNhIk7JwJgE7"
      }
    },
    {
      "cell_type": "code",
      "source": [
        "from keras.models import Sequential\n",
        "from keras.layers import Embedding, SimpleRNN, Dense, Dropout, BatchNormalization\n",
        "from tensorflow.keras.optimizers import Adam\n",
        "from tensorflow.keras.callbacks import ModelCheckpoint, EarlyStopping\n",
        "\n",
        "# 💡 Define the final model with the best hyperparameters\n",
        "final_model = Sequential()\n",
        "\n",
        "# ✅ Embedding layer\n",
        "vocab_size = len(tokenizer.word_index) + 1\n",
        "final_model.add(Embedding(input_dim=vocab_size, output_dim=128, input_length=max_len))  # Embedding Dim: 128\n",
        "\n",
        "# 🔥 RNN Layer\n",
        "final_model.add(SimpleRNN(units=128, activation='relu', return_sequences=False))  # RNN Units: 128\n",
        "\n",
        "# 🛑 Regularization layers\n",
        "final_model.add(Dropout(0.2))  # Dropout Rate: 0.2\n",
        "final_model.add(BatchNormalization())\n",
        "\n",
        "# Dense Layer\n",
        "final_model.add(Dense(128, activation='relu'))\n",
        "final_model.add(Dropout(0.2))\n",
        "\n",
        "# ✅ Output layer\n",
        "final_model.add(Dense(1, activation='sigmoid'))\n",
        "\n",
        "# 🔥 Compile the model with optimized learning rate\n",
        "final_model.compile(optimizer=Adam(learning_rate=0.0001),  # Learning Rate: 0.0001\n",
        "                    loss='binary_crossentropy',\n",
        "                    metrics=['accuracy'])\n",
        "\n",
        "# ✅ Callbacks\n",
        "checkpoint = ModelCheckpoint(\"final_rnn_sentiment_model_optimized.h5\",\n",
        "                             monitor='val_loss',\n",
        "                             save_best_only=True,\n",
        "                             mode='min',\n",
        "                             verbose=1)\n",
        "\n",
        "early_stopping = EarlyStopping(monitor='val_loss', patience=5, restore_best_weights=True)\n",
        "\n",
        "# 💡 Train the model\n",
        "history = final_model.fit(\n",
        "    X_train, y_train,\n",
        "    batch_size=64,          # Batch size\n",
        "    epochs=20,              # Train for 20 epochs\n",
        "    validation_data=(X_test, y_test),\n",
        "    callbacks=[checkpoint, early_stopping],\n",
        "    verbose=1\n",
        ")"
      ],
      "metadata": {
        "colab": {
          "base_uri": "https://localhost:8080/"
        },
        "id": "PvGcdMEVtGHX",
        "outputId": "89e0499f-c6a5-41c1-fa96-2117dd959b8d"
      },
      "execution_count": null,
      "outputs": [
        {
          "output_type": "stream",
          "name": "stdout",
          "text": [
            "Epoch 1/20\n",
            "\u001b[1m625/625\u001b[0m \u001b[32m━━━━━━━━━━━━━━━━━━━━\u001b[0m\u001b[37m\u001b[0m \u001b[1m0s\u001b[0m 19ms/step - accuracy: 0.5046 - loss: 0.7097\n",
            "Epoch 1: val_loss improved from inf to 0.68725, saving model to final_rnn_sentiment_model_optimized.h5\n"
          ]
        },
        {
          "output_type": "stream",
          "name": "stderr",
          "text": [
            "WARNING:absl:You are saving your model as an HDF5 file via `model.save()` or `keras.saving.save_model(model)`. This file format is considered legacy. We recommend using instead the native Keras format, e.g. `model.save('my_model.keras')` or `keras.saving.save_model(model, 'my_model.keras')`. \n"
          ]
        },
        {
          "output_type": "stream",
          "name": "stdout",
          "text": [
            "\b\b\b\b\b\b\b\b\b\b\b\b\b\b\b\b\b\b\b\b\b\b\b\b\b\b\b\b\b\b\b\b\b\b\b\b\b\b\b\b\b\b\b\b\b\b\b\b\b\b\b\b\b\b\b\b\b\b\b\b\b\b\b\b\b\b\b\b\b\b\b\b\b\b\b\r\u001b[1m625/625\u001b[0m \u001b[32m━━━━━━━━━━━━━━━━━━━━\u001b[0m\u001b[37m\u001b[0m \u001b[1m20s\u001b[0m 23ms/step - accuracy: 0.5046 - loss: 0.7097 - val_accuracy: 0.5288 - val_loss: 0.6873\n",
            "Epoch 2/20\n",
            "\u001b[1m625/625\u001b[0m \u001b[32m━━━━━━━━━━━━━━━━━━━━\u001b[0m\u001b[37m\u001b[0m \u001b[1m0s\u001b[0m 19ms/step - accuracy: 0.5448 - loss: 0.6763\n",
            "Epoch 2: val_loss improved from 0.68725 to 0.67756, saving model to final_rnn_sentiment_model_optimized.h5\n"
          ]
        },
        {
          "output_type": "stream",
          "name": "stderr",
          "text": [
            "WARNING:absl:You are saving your model as an HDF5 file via `model.save()` or `keras.saving.save_model(model)`. This file format is considered legacy. We recommend using instead the native Keras format, e.g. `model.save('my_model.keras')` or `keras.saving.save_model(model, 'my_model.keras')`. \n"
          ]
        },
        {
          "output_type": "stream",
          "name": "stdout",
          "text": [
            "\b\b\b\b\b\b\b\b\b\b\b\b\b\b\b\b\b\b\b\b\b\b\b\b\b\b\b\b\b\b\b\b\b\b\b\b\b\b\b\b\b\b\b\b\b\b\b\b\b\b\b\b\b\b\b\b\b\b\b\b\b\b\b\b\b\b\b\b\b\b\b\b\b\b\b\r\u001b[1m625/625\u001b[0m \u001b[32m━━━━━━━━━━━━━━━━━━━━\u001b[0m\u001b[37m\u001b[0m \u001b[1m14s\u001b[0m 22ms/step - accuracy: 0.5448 - loss: 0.6763 - val_accuracy: 0.5432 - val_loss: 0.6776\n",
            "Epoch 3/20\n",
            "\u001b[1m625/625\u001b[0m \u001b[32m━━━━━━━━━━━━━━━━━━━━\u001b[0m\u001b[37m\u001b[0m \u001b[1m0s\u001b[0m 19ms/step - accuracy: 0.5848 - loss: 0.6454\n",
            "Epoch 3: val_loss improved from 0.67756 to 0.65874, saving model to final_rnn_sentiment_model_optimized.h5\n"
          ]
        },
        {
          "output_type": "stream",
          "name": "stderr",
          "text": [
            "WARNING:absl:You are saving your model as an HDF5 file via `model.save()` or `keras.saving.save_model(model)`. This file format is considered legacy. We recommend using instead the native Keras format, e.g. `model.save('my_model.keras')` or `keras.saving.save_model(model, 'my_model.keras')`. \n"
          ]
        },
        {
          "output_type": "stream",
          "name": "stdout",
          "text": [
            "\b\b\b\b\b\b\b\b\b\b\b\b\b\b\b\b\b\b\b\b\b\b\b\b\b\b\b\b\b\b\b\b\b\b\b\b\b\b\b\b\b\b\b\b\b\b\b\b\b\b\b\b\b\b\b\b\b\b\b\b\b\b\b\b\b\b\b\b\b\b\b\b\b\b\b\r\u001b[1m625/625\u001b[0m \u001b[32m━━━━━━━━━━━━━━━━━━━━\u001b[0m\u001b[37m\u001b[0m \u001b[1m13s\u001b[0m 21ms/step - accuracy: 0.5848 - loss: 0.6454 - val_accuracy: 0.5676 - val_loss: 0.6587\n",
            "Epoch 4/20\n",
            "\u001b[1m624/625\u001b[0m \u001b[32m━━━━━━━━━━━━━━━━━━━\u001b[0m\u001b[37m━\u001b[0m \u001b[1m0s\u001b[0m 19ms/step - accuracy: 0.6514 - loss: 0.5684\n",
            "Epoch 4: val_loss did not improve from 0.65874\n",
            "\u001b[1m625/625\u001b[0m \u001b[32m━━━━━━━━━━━━━━━━━━━━\u001b[0m\u001b[37m\u001b[0m \u001b[1m20s\u001b[0m 20ms/step - accuracy: 0.6516 - loss: 0.5682 - val_accuracy: 0.5000 - val_loss: 0.9442\n",
            "Epoch 5/20\n",
            "\u001b[1m624/625\u001b[0m \u001b[32m━━━━━━━━━━━━━━━━━━━\u001b[0m\u001b[37m━\u001b[0m \u001b[1m0s\u001b[0m 19ms/step - accuracy: 0.8534 - loss: 0.3426\n",
            "Epoch 5: val_loss did not improve from 0.65874\n",
            "\u001b[1m625/625\u001b[0m \u001b[32m━━━━━━━━━━━━━━━━━━━━\u001b[0m\u001b[37m\u001b[0m \u001b[1m20s\u001b[0m 20ms/step - accuracy: 0.8534 - loss: 0.3425 - val_accuracy: 0.5026 - val_loss: 0.6758\n",
            "Epoch 6/20\n",
            "\u001b[1m624/625\u001b[0m \u001b[32m━━━━━━━━━━━━━━━━━━━\u001b[0m\u001b[37m━\u001b[0m \u001b[1m0s\u001b[0m 19ms/step - accuracy: 0.9130 - loss: 0.2241\n",
            "Epoch 6: val_loss improved from 0.65874 to 0.55070, saving model to final_rnn_sentiment_model_optimized.h5\n"
          ]
        },
        {
          "output_type": "stream",
          "name": "stderr",
          "text": [
            "WARNING:absl:You are saving your model as an HDF5 file via `model.save()` or `keras.saving.save_model(model)`. This file format is considered legacy. We recommend using instead the native Keras format, e.g. `model.save('my_model.keras')` or `keras.saving.save_model(model, 'my_model.keras')`. \n"
          ]
        },
        {
          "output_type": "stream",
          "name": "stdout",
          "text": [
            "\b\b\b\b\b\b\b\b\b\b\b\b\b\b\b\b\b\b\b\b\b\b\b\b\b\b\b\b\b\b\b\b\b\b\b\b\b\b\b\b\b\b\b\b\b\b\b\b\b\b\b\b\b\b\b\b\b\b\b\b\b\b\b\b\b\b\b\b\b\b\b\b\b\b\b\r\u001b[1m625/625\u001b[0m \u001b[32m━━━━━━━━━━━━━━━━━━━━\u001b[0m\u001b[37m\u001b[0m \u001b[1m21s\u001b[0m 22ms/step - accuracy: 0.9130 - loss: 0.2241 - val_accuracy: 0.8513 - val_loss: 0.5507\n",
            "Epoch 7/20\n",
            "\u001b[1m625/625\u001b[0m \u001b[32m━━━━━━━━━━━━━━━━━━━━\u001b[0m\u001b[37m\u001b[0m \u001b[1m0s\u001b[0m 19ms/step - accuracy: 0.9275 - loss: 0.1910\n",
            "Epoch 7: val_loss did not improve from 0.55070\n",
            "\u001b[1m625/625\u001b[0m \u001b[32m━━━━━━━━━━━━━━━━━━━━\u001b[0m\u001b[37m\u001b[0m \u001b[1m13s\u001b[0m 21ms/step - accuracy: 0.9275 - loss: 0.1911 - val_accuracy: 0.5002 - val_loss: 0.6821\n",
            "Epoch 8/20\n",
            "\u001b[1m625/625\u001b[0m \u001b[32m━━━━━━━━━━━━━━━━━━━━\u001b[0m\u001b[37m\u001b[0m \u001b[1m0s\u001b[0m 19ms/step - accuracy: 0.9355 - loss: 0.1742\n",
            "Epoch 8: val_loss did not improve from 0.55070\n",
            "\u001b[1m625/625\u001b[0m \u001b[32m━━━━━━━━━━━━━━━━━━━━\u001b[0m\u001b[37m\u001b[0m \u001b[1m20s\u001b[0m 20ms/step - accuracy: 0.9355 - loss: 0.1742 - val_accuracy: 0.5837 - val_loss: 0.6587\n",
            "Epoch 9/20\n",
            "\u001b[1m625/625\u001b[0m \u001b[32m━━━━━━━━━━━━━━━━━━━━\u001b[0m\u001b[37m\u001b[0m \u001b[1m0s\u001b[0m 19ms/step - accuracy: 0.9588 - loss: 0.1228\n",
            "Epoch 9: val_loss improved from 0.55070 to 0.52492, saving model to final_rnn_sentiment_model_optimized.h5\n"
          ]
        },
        {
          "output_type": "stream",
          "name": "stderr",
          "text": [
            "WARNING:absl:You are saving your model as an HDF5 file via `model.save()` or `keras.saving.save_model(model)`. This file format is considered legacy. We recommend using instead the native Keras format, e.g. `model.save('my_model.keras')` or `keras.saving.save_model(model, 'my_model.keras')`. \n"
          ]
        },
        {
          "output_type": "stream",
          "name": "stdout",
          "text": [
            "\b\b\b\b\b\b\b\b\b\b\b\b\b\b\b\b\b\b\b\b\b\b\b\b\b\b\b\b\b\b\b\b\b\b\b\b\b\b\b\b\b\b\b\b\b\b\b\b\b\b\b\b\b\b\b\b\b\b\b\b\b\b\b\b\b\b\b\b\b\b\b\b\b\b\b\r\u001b[1m625/625\u001b[0m \u001b[32m━━━━━━━━━━━━━━━━━━━━\u001b[0m\u001b[37m\u001b[0m \u001b[1m13s\u001b[0m 21ms/step - accuracy: 0.9588 - loss: 0.1228 - val_accuracy: 0.7062 - val_loss: 0.5249\n",
            "Epoch 10/20\n",
            "\u001b[1m625/625\u001b[0m \u001b[32m━━━━━━━━━━━━━━━━━━━━\u001b[0m\u001b[37m\u001b[0m \u001b[1m0s\u001b[0m 19ms/step - accuracy: 0.9620 - loss: 0.1099\n",
            "Epoch 10: val_loss improved from 0.52492 to 0.45604, saving model to final_rnn_sentiment_model_optimized.h5\n"
          ]
        },
        {
          "output_type": "stream",
          "name": "stderr",
          "text": [
            "WARNING:absl:You are saving your model as an HDF5 file via `model.save()` or `keras.saving.save_model(model)`. This file format is considered legacy. We recommend using instead the native Keras format, e.g. `model.save('my_model.keras')` or `keras.saving.save_model(model, 'my_model.keras')`. \n"
          ]
        },
        {
          "output_type": "stream",
          "name": "stdout",
          "text": [
            "\b\b\b\b\b\b\b\b\b\b\b\b\b\b\b\b\b\b\b\b\b\b\b\b\b\b\b\b\b\b\b\b\b\b\b\b\b\b\b\b\b\b\b\b\b\b\b\b\b\b\b\b\b\b\b\b\b\b\b\b\b\b\b\b\b\b\b\b\b\b\b\b\b\b\b\r\u001b[1m625/625\u001b[0m \u001b[32m━━━━━━━━━━━━━━━━━━━━\u001b[0m\u001b[37m\u001b[0m \u001b[1m21s\u001b[0m 22ms/step - accuracy: 0.9619 - loss: 0.1099 - val_accuracy: 0.8415 - val_loss: 0.4560\n",
            "Epoch 11/20\n",
            "\u001b[1m625/625\u001b[0m \u001b[32m━━━━━━━━━━━━━━━━━━━━\u001b[0m\u001b[37m\u001b[0m \u001b[1m0s\u001b[0m 19ms/step - accuracy: 0.9693 - loss: 0.0948\n",
            "Epoch 11: val_loss did not improve from 0.45604\n",
            "\u001b[1m625/625\u001b[0m \u001b[32m━━━━━━━━━━━━━━━━━━━━\u001b[0m\u001b[37m\u001b[0m \u001b[1m20s\u001b[0m 21ms/step - accuracy: 0.9693 - loss: 0.0948 - val_accuracy: 0.5007 - val_loss: 0.9480\n",
            "Epoch 12/20\n",
            "\u001b[1m623/625\u001b[0m \u001b[32m━━━━━━━━━━━━━━━━━━━\u001b[0m\u001b[37m━\u001b[0m \u001b[1m0s\u001b[0m 19ms/step - accuracy: 0.9745 - loss: 0.0801\n",
            "Epoch 12: val_loss improved from 0.45604 to 0.35427, saving model to final_rnn_sentiment_model_optimized.h5\n"
          ]
        },
        {
          "output_type": "stream",
          "name": "stderr",
          "text": [
            "WARNING:absl:You are saving your model as an HDF5 file via `model.save()` or `keras.saving.save_model(model)`. This file format is considered legacy. We recommend using instead the native Keras format, e.g. `model.save('my_model.keras')` or `keras.saving.save_model(model, 'my_model.keras')`. \n"
          ]
        },
        {
          "output_type": "stream",
          "name": "stdout",
          "text": [
            "\b\b\b\b\b\b\b\b\b\b\b\b\b\b\b\b\b\b\b\b\b\b\b\b\b\b\b\b\b\b\b\b\b\b\b\b\b\b\b\b\b\b\b\b\b\b\b\b\b\b\b\b\b\b\b\b\b\b\b\b\b\b\b\b\b\b\b\b\b\b\b\b\b\b\b\r\u001b[1m625/625\u001b[0m \u001b[32m━━━━━━━━━━━━━━━━━━━━\u001b[0m\u001b[37m\u001b[0m \u001b[1m21s\u001b[0m 22ms/step - accuracy: 0.9744 - loss: 0.0802 - val_accuracy: 0.8586 - val_loss: 0.3543\n",
            "Epoch 13/20\n",
            "\u001b[1m625/625\u001b[0m \u001b[32m━━━━━━━━━━━━━━━━━━━━\u001b[0m\u001b[37m\u001b[0m \u001b[1m0s\u001b[0m 19ms/step - accuracy: 0.9794 - loss: 0.0657\n",
            "Epoch 13: val_loss did not improve from 0.35427\n",
            "\u001b[1m625/625\u001b[0m \u001b[32m━━━━━━━━━━━━━━━━━━━━\u001b[0m\u001b[37m\u001b[0m \u001b[1m13s\u001b[0m 20ms/step - accuracy: 0.9794 - loss: 0.0657 - val_accuracy: 0.8604 - val_loss: 0.4765\n",
            "Epoch 14/20\n",
            "\u001b[1m625/625\u001b[0m \u001b[32m━━━━━━━━━━━━━━━━━━━━\u001b[0m\u001b[37m\u001b[0m \u001b[1m0s\u001b[0m 19ms/step - accuracy: 0.9770 - loss: 0.0721\n",
            "Epoch 14: val_loss did not improve from 0.35427\n",
            "\u001b[1m625/625\u001b[0m \u001b[32m━━━━━━━━━━━━━━━━━━━━\u001b[0m\u001b[37m\u001b[0m \u001b[1m13s\u001b[0m 21ms/step - accuracy: 0.9770 - loss: 0.0721 - val_accuracy: 0.8627 - val_loss: 0.4575\n",
            "Epoch 15/20\n",
            "\u001b[1m624/625\u001b[0m \u001b[32m━━━━━━━━━━━━━━━━━━━\u001b[0m\u001b[37m━\u001b[0m \u001b[1m0s\u001b[0m 19ms/step - accuracy: 0.9727 - loss: 0.0824\n",
            "Epoch 15: val_loss did not improve from 0.35427\n",
            "\u001b[1m625/625\u001b[0m \u001b[32m━━━━━━━━━━━━━━━━━━━━\u001b[0m\u001b[37m\u001b[0m \u001b[1m13s\u001b[0m 21ms/step - accuracy: 0.9727 - loss: 0.0823 - val_accuracy: 0.8449 - val_loss: 0.7396\n",
            "Epoch 16/20\n",
            "\u001b[1m623/625\u001b[0m \u001b[32m━━━━━━━━━━━━━━━━━━━\u001b[0m\u001b[37m━\u001b[0m \u001b[1m0s\u001b[0m 19ms/step - accuracy: 0.9806 - loss: 0.0556\n",
            "Epoch 16: val_loss did not improve from 0.35427\n",
            "\u001b[1m625/625\u001b[0m \u001b[32m━━━━━━━━━━━━━━━━━━━━\u001b[0m\u001b[37m\u001b[0m \u001b[1m21s\u001b[0m 21ms/step - accuracy: 0.9806 - loss: 0.0557 - val_accuracy: 0.8116 - val_loss: 0.4491\n",
            "Epoch 17/20\n",
            "\u001b[1m625/625\u001b[0m \u001b[32m━━━━━━━━━━━━━━━━━━━━\u001b[0m\u001b[37m\u001b[0m \u001b[1m0s\u001b[0m 19ms/step - accuracy: 0.9902 - loss: 0.0380\n",
            "Epoch 17: val_loss did not improve from 0.35427\n",
            "\u001b[1m625/625\u001b[0m \u001b[32m━━━━━━━━━━━━━━━━━━━━\u001b[0m\u001b[37m\u001b[0m \u001b[1m13s\u001b[0m 21ms/step - accuracy: 0.9902 - loss: 0.0380 - val_accuracy: 0.8097 - val_loss: 0.6155\n"
          ]
        }
      ]
    },
    {
      "cell_type": "code",
      "source": [
        "loss, accuracy = final_model.evaluate(X_test, y_test)\n",
        "print(f'Test Accuracy: {accuracy:.4f}')"
      ],
      "metadata": {
        "colab": {
          "base_uri": "https://localhost:8080/"
        },
        "id": "3q9puMn87Dq0",
        "outputId": "17a44358-81b2-42f7-daba-53453f1c01a0"
      },
      "execution_count": null,
      "outputs": [
        {
          "output_type": "stream",
          "name": "stdout",
          "text": [
            "\u001b[1m313/313\u001b[0m \u001b[32m━━━━━━━━━━━━━━━━━━━━\u001b[0m\u001b[37m\u001b[0m \u001b[1m3s\u001b[0m 8ms/step - accuracy: 0.8543 - loss: 0.3580\n",
            "Test Accuracy: 0.8586\n"
          ]
        }
      ]
    },
    {
      "cell_type": "markdown",
      "source": [
        "# Make Predictions"
      ],
      "metadata": {
        "id": "UBmKD0qjGIrr"
      }
    },
    {
      "cell_type": "markdown",
      "source": [
        "Positive sentiment (1) if >= 0.5\n",
        "\n",
        "Negative sentiment (0) if < 0.5  "
      ],
      "metadata": {
        "id": "vqRFeAJOGSVG"
      }
    },
    {
      "cell_type": "code",
      "source": [
        "# ✅ Load the trained RNN model\n",
        "model = load_model(\"final_rnn_sentiment_model_optimized.h5\")\n",
        "\n",
        "# 🚀 Make predictions\n",
        "predictions = final_model.predict(X_test_padded)\n",
        "\n",
        "# 🔥 Convert probabilities to binary labels\n",
        "test_data['predicted_sentiment'] = (predictions >= 0.5).astype(int)"
      ],
      "metadata": {
        "colab": {
          "base_uri": "https://localhost:8080/"
        },
        "id": "XVDQ5uRGuHAo",
        "outputId": "9ff9f177-b4aa-4ad4-ba0b-b8324ce6d12c"
      },
      "execution_count": null,
      "outputs": [
        {
          "output_type": "stream",
          "name": "stderr",
          "text": [
            "WARNING:absl:Compiled the loaded model, but the compiled metrics have yet to be built. `model.compile_metrics` will be empty until you train or evaluate the model.\n"
          ]
        },
        {
          "output_type": "stream",
          "name": "stdout",
          "text": [
            "\u001b[1m2/2\u001b[0m \u001b[32m━━━━━━━━━━━━━━━━━━━━\u001b[0m\u001b[37m\u001b[0m \u001b[1m1s\u001b[0m 668ms/step\n"
          ]
        }
      ]
    },
    {
      "cell_type": "markdown",
      "source": [
        "## 📊 **Evaluate the Model Performance**"
      ],
      "metadata": {
        "id": "rXDIhVROuNtx"
      }
    },
    {
      "cell_type": "code",
      "source": [
        "# ✅ Calculate accuracy\n",
        "accuracy = accuracy_score(test_data['sentiment_encoded'], test_data['predicted_sentiment'])\n",
        "print(f\"\\n✅ Model Accuracy on New Test Data: {accuracy:.4f}\")\n",
        "\n",
        "# 📊 Display a detailed classification report\n",
        "print(\"\\n📊 Classification Report:\\n\")\n",
        "print(classification_report(test_data['sentiment_encoded'], test_data['predicted_sentiment']))\n",
        "\n",
        "# 🛑 Display confusion matrix\n",
        "print(\"\\n🛑 Confusion Matrix:\\n\")\n",
        "print(confusion_matrix(test_data['sentiment_encoded'], test_data['predicted_sentiment']))"
      ],
      "metadata": {
        "colab": {
          "base_uri": "https://localhost:8080/"
        },
        "id": "DBukDP7wuLsZ",
        "outputId": "cab09517-0767-4d88-edd5-48d8fac35396"
      },
      "execution_count": null,
      "outputs": [
        {
          "output_type": "stream",
          "name": "stdout",
          "text": [
            "\n",
            "✅ Model Accuracy on New Test Data: 0.6000\n",
            "\n",
            "📊 Classification Report:\n",
            "\n",
            "              precision    recall  f1-score   support\n",
            "\n",
            "           0       0.75      0.12      0.20        26\n",
            "           1       0.59      0.97      0.73        34\n",
            "\n",
            "    accuracy                           0.60        60\n",
            "   macro avg       0.67      0.54      0.47        60\n",
            "weighted avg       0.66      0.60      0.50        60\n",
            "\n",
            "\n",
            "🛑 Confusion Matrix:\n",
            "\n",
            "[[ 3 23]\n",
            " [ 1 33]]\n"
          ]
        }
      ]
    },
    {
      "cell_type": "markdown",
      "source": [
        "### 💡 **Model 2: Tuned RNN with Regularization**\n",
        "**Improvements:**\n",
        "- Added **Dropout layers** for regularization.\n",
        "- Increased **embedding dimensions** and **RNN units**.\n",
        "- Used **Adam optimizer** with a lower learning rate (0.0001) for better convergence.\n",
        "- Applied **batch normalization** to stabilize training.\n",
        "\n",
        "**Training Results:**\n",
        "- ✅ Accuracy: **0.8543**\n",
        "- ✅ Loss: **0.3580**\n",
        "- ✅ Test Accuracy: **0.8586**\n",
        "\n",
        "**Evaluation on External Test Data:**\n",
        "- ✅ Model Accuracy: **0.6000**\n",
        "\n",
        "📊 **Classification Report:**\n",
        "```\n",
        "              precision    recall  f1-score   support\n",
        "           0       0.75      0.12      0.20        26  \n",
        "           1       0.59      0.97      0.73        34  \n",
        "\n",
        "    accuracy                           0.60        60  \n",
        "   macro avg       0.67      0.54      0.47        60  \n",
        "weighted avg       0.66      0.60      0.50        60  \n",
        "```\n",
        "\n",
        "🛑 **Confusion Matrix:**\n",
        "```\n",
        "[[ 3 23]  \n",
        " [ 0 34]]  \n",
        "```\n",
        "\n",
        "### **📌 Interpretation:**\n",
        "- Despite **hyperparameter tuning**, the model still struggled to generalize on the **synthetic data**.  \n",
        "- The accuracy dropped slightly to **60%** on external data.  \n",
        "- The model continued to misclassify many **negative reviews** as positive.  \n",
        "\n",
        "---"
      ],
      "metadata": {
        "id": "zTJYIYnPTwFY"
      }
    },
    {
      "cell_type": "markdown",
      "source": [
        "# Hyperparameter Tuning again : MODEL 3"
      ],
      "metadata": {
        "id": "2Vzpxxylv6LU"
      }
    },
    {
      "cell_type": "code",
      "source": [
        "from keras.models import Sequential\n",
        "from keras.layers import Embedding, SimpleRNN, Dense, Dropout, BatchNormalization, Bidirectional\n",
        "from tensorflow.keras.optimizers import Adam\n",
        "from tensorflow.keras.regularizers import l2\n",
        "from tensorflow.keras.callbacks import ModelCheckpoint, EarlyStopping\n",
        "\n",
        "# 💡 Define the improved RNN model\n",
        "improved_model = Sequential()\n",
        "\n",
        "# ✅ Embedding layer\n",
        "vocab_size = len(tokenizer.word_index) + 1\n",
        "improved_model.add(Embedding(input_dim=vocab_size, output_dim=128, input_length=max_len))\n",
        "\n",
        "# 🔥 Bidirectional RNN Layer\n",
        "improved_model.add(Bidirectional(SimpleRNN(units=128, activation='relu', return_sequences=True)))  # Bidirectional RNN\n",
        "improved_model.add(Dropout(0.3))\n",
        "improved_model.add(BatchNormalization())\n",
        "\n",
        "# 💡 Additional RNN layer for deeper learning\n",
        "improved_model.add(SimpleRNN(units=64, activation='relu', return_sequences=False))\n",
        "improved_model.add(Dropout(0.3))\n",
        "improved_model.add(BatchNormalization())\n",
        "\n",
        "# ⚡ Dense Layer with L2 Regularization\n",
        "improved_model.add(Dense(128, activation='relu', kernel_regularizer=l2(0.001)))\n",
        "improved_model.add(Dropout(0.3))\n",
        "\n",
        "# ✅ Output layer\n",
        "improved_model.add(Dense(1, activation='sigmoid'))\n",
        "\n",
        "# 🔥 Compile the model with Gradient Clipping\n",
        "optimizer = Adam(learning_rate=0.0001, clipnorm=1.0)  # Gradient clipping\n",
        "improved_model.compile(optimizer=optimizer,\n",
        "                       loss='binary_crossentropy',\n",
        "                       metrics=['accuracy'])\n",
        "\n",
        "# ✅ Callbacks\n",
        "checkpoint = ModelCheckpoint(\"improved_rnn_sentiment_model.h5\",\n",
        "                             monitor='val_loss',\n",
        "                             save_best_only=True,\n",
        "                             mode='min',\n",
        "                             verbose=1)\n",
        "\n",
        "early_stopping = EarlyStopping(monitor='val_loss', patience=7, restore_best_weights=True)  # Increased patience\n",
        "\n",
        "# 💡 Train the improved model\n",
        "history = improved_model.fit(\n",
        "    X_train, y_train,\n",
        "    batch_size=64,\n",
        "    epochs=30,  # Train for more epochs\n",
        "    validation_data=(X_test, y_test),\n",
        "    callbacks=[checkpoint, early_stopping],\n",
        "    verbose=1\n",
        ")"
      ],
      "metadata": {
        "colab": {
          "base_uri": "https://localhost:8080/"
        },
        "id": "TzJtjUjcv9CT",
        "outputId": "f2283d30-0ab7-4ab6-e51b-a963e619c2fa"
      },
      "execution_count": null,
      "outputs": [
        {
          "output_type": "stream",
          "name": "stdout",
          "text": [
            "Epoch 1/30\n"
          ]
        },
        {
          "output_type": "stream",
          "name": "stderr",
          "text": [
            "/usr/local/lib/python3.11/dist-packages/keras/src/layers/core/embedding.py:90: UserWarning: Argument `input_length` is deprecated. Just remove it.\n",
            "  warnings.warn(\n"
          ]
        },
        {
          "output_type": "stream",
          "name": "stdout",
          "text": [
            "\u001b[1m625/625\u001b[0m \u001b[32m━━━━━━━━━━━━━━━━━━━━\u001b[0m\u001b[37m\u001b[0m \u001b[1m0s\u001b[0m 50ms/step - accuracy: 0.5060 - loss: 0.8291\n",
            "Epoch 1: val_loss improved from inf to 0.76986, saving model to improved_rnn_sentiment_model.h5\n"
          ]
        },
        {
          "output_type": "stream",
          "name": "stderr",
          "text": [
            "WARNING:absl:You are saving your model as an HDF5 file via `model.save()` or `keras.saving.save_model(model)`. This file format is considered legacy. We recommend using instead the native Keras format, e.g. `model.save('my_model.keras')` or `keras.saving.save_model(model, 'my_model.keras')`. \n"
          ]
        },
        {
          "output_type": "stream",
          "name": "stdout",
          "text": [
            "\b\b\b\b\b\b\b\b\b\b\b\b\b\b\b\b\b\b\b\b\b\b\b\b\b\b\b\b\b\b\b\b\b\b\b\b\b\b\b\b\b\b\b\b\b\b\b\b\b\b\b\b\b\b\b\b\b\b\b\b\b\b\b\b\b\b\b\b\b\b\b\b\b\b\b\r\u001b[1m625/625\u001b[0m \u001b[32m━━━━━━━━━━━━━━━━━━━━\u001b[0m\u001b[37m\u001b[0m \u001b[1m48s\u001b[0m 60ms/step - accuracy: 0.5060 - loss: 0.8291 - val_accuracy: 0.5100 - val_loss: 0.7699\n",
            "Epoch 2/30\n",
            "\u001b[1m625/625\u001b[0m \u001b[32m━━━━━━━━━━━━━━━━━━━━\u001b[0m\u001b[37m\u001b[0m \u001b[1m0s\u001b[0m 54ms/step - accuracy: 0.5085 - loss: 0.7918\n",
            "Epoch 2: val_loss improved from 0.76986 to 0.76091, saving model to improved_rnn_sentiment_model.h5\n"
          ]
        },
        {
          "output_type": "stream",
          "name": "stderr",
          "text": [
            "WARNING:absl:You are saving your model as an HDF5 file via `model.save()` or `keras.saving.save_model(model)`. This file format is considered legacy. We recommend using instead the native Keras format, e.g. `model.save('my_model.keras')` or `keras.saving.save_model(model, 'my_model.keras')`. \n"
          ]
        },
        {
          "output_type": "stream",
          "name": "stdout",
          "text": [
            "\b\b\b\b\b\b\b\b\b\b\b\b\b\b\b\b\b\b\b\b\b\b\b\b\b\b\b\b\b\b\b\b\b\b\b\b\b\b\b\b\b\b\b\b\b\b\b\b\b\b\b\b\b\b\b\b\b\b\b\b\b\b\b\b\b\b\b\b\b\b\b\b\b\b\b\r\u001b[1m625/625\u001b[0m \u001b[32m━━━━━━━━━━━━━━━━━━━━\u001b[0m\u001b[37m\u001b[0m \u001b[1m80s\u001b[0m 64ms/step - accuracy: 0.5085 - loss: 0.7918 - val_accuracy: 0.5158 - val_loss: 0.7609\n",
            "Epoch 3/30\n",
            "\u001b[1m624/625\u001b[0m \u001b[32m━━━━━━━━━━━━━━━━━━━\u001b[0m\u001b[37m━\u001b[0m \u001b[1m0s\u001b[0m 52ms/step - accuracy: 0.5132 - loss: 0.7766\n",
            "Epoch 3: val_loss improved from 0.76091 to 0.75229, saving model to improved_rnn_sentiment_model.h5\n"
          ]
        },
        {
          "output_type": "stream",
          "name": "stderr",
          "text": [
            "WARNING:absl:You are saving your model as an HDF5 file via `model.save()` or `keras.saving.save_model(model)`. This file format is considered legacy. We recommend using instead the native Keras format, e.g. `model.save('my_model.keras')` or `keras.saving.save_model(model, 'my_model.keras')`. \n"
          ]
        },
        {
          "output_type": "stream",
          "name": "stdout",
          "text": [
            "\b\b\b\b\b\b\b\b\b\b\b\b\b\b\b\b\b\b\b\b\b\b\b\b\b\b\b\b\b\b\b\b\b\b\b\b\b\b\b\b\b\b\b\b\b\b\b\b\b\b\b\b\b\b\b\b\b\b\b\b\b\b\b\b\b\b\b\b\b\b\b\b\b\b\b\r\u001b[1m625/625\u001b[0m \u001b[32m━━━━━━━━━━━━━━━━━━━━\u001b[0m\u001b[37m\u001b[0m \u001b[1m36s\u001b[0m 57ms/step - accuracy: 0.5132 - loss: 0.7766 - val_accuracy: 0.5246 - val_loss: 0.7523\n",
            "Epoch 4/30\n",
            "\u001b[1m625/625\u001b[0m \u001b[32m━━━━━━━━━━━━━━━━━━━━\u001b[0m\u001b[37m\u001b[0m \u001b[1m0s\u001b[0m 53ms/step - accuracy: 0.5223 - loss: 0.7615\n",
            "Epoch 4: val_loss improved from 0.75229 to 0.74397, saving model to improved_rnn_sentiment_model.h5\n"
          ]
        },
        {
          "output_type": "stream",
          "name": "stderr",
          "text": [
            "WARNING:absl:You are saving your model as an HDF5 file via `model.save()` or `keras.saving.save_model(model)`. This file format is considered legacy. We recommend using instead the native Keras format, e.g. `model.save('my_model.keras')` or `keras.saving.save_model(model, 'my_model.keras')`. \n"
          ]
        },
        {
          "output_type": "stream",
          "name": "stdout",
          "text": [
            "\b\b\b\b\b\b\b\b\b\b\b\b\b\b\b\b\b\b\b\b\b\b\b\b\b\b\b\b\b\b\b\b\b\b\b\b\b\b\b\b\b\b\b\b\b\b\b\b\b\b\b\b\b\b\b\b\b\b\b\b\b\b\b\b\b\b\b\b\b\b\b\b\b\b\b\r\u001b[1m625/625\u001b[0m \u001b[32m━━━━━━━━━━━━━━━━━━━━\u001b[0m\u001b[37m\u001b[0m \u001b[1m42s\u001b[0m 59ms/step - accuracy: 0.5223 - loss: 0.7615 - val_accuracy: 0.5323 - val_loss: 0.7440\n",
            "Epoch 5/30\n",
            "\u001b[1m625/625\u001b[0m \u001b[32m━━━━━━━━━━━━━━━━━━━━\u001b[0m\u001b[37m\u001b[0m \u001b[1m0s\u001b[0m 52ms/step - accuracy: 0.5354 - loss: 0.7464\n",
            "Epoch 5: val_loss improved from 0.74397 to 0.73475, saving model to improved_rnn_sentiment_model.h5\n"
          ]
        },
        {
          "output_type": "stream",
          "name": "stderr",
          "text": [
            "WARNING:absl:You are saving your model as an HDF5 file via `model.save()` or `keras.saving.save_model(model)`. This file format is considered legacy. We recommend using instead the native Keras format, e.g. `model.save('my_model.keras')` or `keras.saving.save_model(model, 'my_model.keras')`. \n"
          ]
        },
        {
          "output_type": "stream",
          "name": "stdout",
          "text": [
            "\b\b\b\b\b\b\b\b\b\b\b\b\b\b\b\b\b\b\b\b\b\b\b\b\b\b\b\b\b\b\b\b\b\b\b\b\b\b\b\b\b\b\b\b\b\b\b\b\b\b\b\b\b\b\b\b\b\b\b\b\b\b\b\b\b\b\b\b\b\b\b\b\b\b\b\r\u001b[1m625/625\u001b[0m \u001b[32m━━━━━━━━━━━━━━━━━━━━\u001b[0m\u001b[37m\u001b[0m \u001b[1m40s\u001b[0m 58ms/step - accuracy: 0.5354 - loss: 0.7464 - val_accuracy: 0.5353 - val_loss: 0.7347\n",
            "Epoch 6/30\n",
            "\u001b[1m624/625\u001b[0m \u001b[32m━━━━━━━━━━━━━━━━━━━\u001b[0m\u001b[37m━\u001b[0m \u001b[1m0s\u001b[0m 50ms/step - accuracy: 0.5548 - loss: 0.7267\n",
            "Epoch 6: val_loss improved from 0.73475 to 0.72282, saving model to improved_rnn_sentiment_model.h5\n"
          ]
        },
        {
          "output_type": "stream",
          "name": "stderr",
          "text": [
            "WARNING:absl:You are saving your model as an HDF5 file via `model.save()` or `keras.saving.save_model(model)`. This file format is considered legacy. We recommend using instead the native Keras format, e.g. `model.save('my_model.keras')` or `keras.saving.save_model(model, 'my_model.keras')`. \n"
          ]
        },
        {
          "output_type": "stream",
          "name": "stdout",
          "text": [
            "\b\b\b\b\b\b\b\b\b\b\b\b\b\b\b\b\b\b\b\b\b\b\b\b\b\b\b\b\b\b\b\b\b\b\b\b\b\b\b\b\b\b\b\b\b\b\b\b\b\b\b\b\b\b\b\b\b\b\b\b\b\b\b\b\b\b\b\b\b\b\b\b\b\b\b\r\u001b[1m625/625\u001b[0m \u001b[32m━━━━━━━━━━━━━━━━━━━━\u001b[0m\u001b[37m\u001b[0m \u001b[1m39s\u001b[0m 55ms/step - accuracy: 0.5548 - loss: 0.7267 - val_accuracy: 0.5518 - val_loss: 0.7228\n",
            "Epoch 7/30\n",
            "\u001b[1m625/625\u001b[0m \u001b[32m━━━━━━━━━━━━━━━━━━━━\u001b[0m\u001b[37m\u001b[0m \u001b[1m0s\u001b[0m 54ms/step - accuracy: 0.5928 - loss: 0.6884\n",
            "Epoch 7: val_loss improved from 0.72282 to 0.59252, saving model to improved_rnn_sentiment_model.h5\n"
          ]
        },
        {
          "output_type": "stream",
          "name": "stderr",
          "text": [
            "WARNING:absl:You are saving your model as an HDF5 file via `model.save()` or `keras.saving.save_model(model)`. This file format is considered legacy. We recommend using instead the native Keras format, e.g. `model.save('my_model.keras')` or `keras.saving.save_model(model, 'my_model.keras')`. \n"
          ]
        },
        {
          "output_type": "stream",
          "name": "stdout",
          "text": [
            "\b\b\b\b\b\b\b\b\b\b\b\b\b\b\b\b\b\b\b\b\b\b\b\b\b\b\b\b\b\b\b\b\b\b\b\b\b\b\b\b\b\b\b\b\b\b\b\b\b\b\b\b\b\b\b\b\b\b\b\b\b\b\b\b\b\b\b\b\b\b\b\b\b\b\b\r\u001b[1m625/625\u001b[0m \u001b[32m━━━━━━━━━━━━━━━━━━━━\u001b[0m\u001b[37m\u001b[0m \u001b[1m46s\u001b[0m 63ms/step - accuracy: 0.5929 - loss: 0.6883 - val_accuracy: 0.7449 - val_loss: 0.5925\n",
            "Epoch 8/30\n",
            "\u001b[1m625/625\u001b[0m \u001b[32m━━━━━━━━━━━━━━━━━━━━\u001b[0m\u001b[37m\u001b[0m \u001b[1m0s\u001b[0m 52ms/step - accuracy: 0.8382 - loss: 0.4381\n",
            "Epoch 8: val_loss improved from 0.59252 to 0.42196, saving model to improved_rnn_sentiment_model.h5\n"
          ]
        },
        {
          "output_type": "stream",
          "name": "stderr",
          "text": [
            "WARNING:absl:You are saving your model as an HDF5 file via `model.save()` or `keras.saving.save_model(model)`. This file format is considered legacy. We recommend using instead the native Keras format, e.g. `model.save('my_model.keras')` or `keras.saving.save_model(model, 'my_model.keras')`. \n"
          ]
        },
        {
          "output_type": "stream",
          "name": "stdout",
          "text": [
            "\b\b\b\b\b\b\b\b\b\b\b\b\b\b\b\b\b\b\b\b\b\b\b\b\b\b\b\b\b\b\b\b\b\b\b\b\b\b\b\b\b\b\b\b\b\b\b\b\b\b\b\b\b\b\b\b\b\b\b\b\b\b\b\b\b\b\b\b\b\b\b\b\b\b\b\r\u001b[1m625/625\u001b[0m \u001b[32m━━━━━━━━━━━━━━━━━━━━\u001b[0m\u001b[37m\u001b[0m \u001b[1m36s\u001b[0m 58ms/step - accuracy: 0.8382 - loss: 0.4381 - val_accuracy: 0.8360 - val_loss: 0.4220\n",
            "Epoch 9/30\n",
            "\u001b[1m625/625\u001b[0m \u001b[32m━━━━━━━━━━━━━━━━━━━━\u001b[0m\u001b[37m\u001b[0m \u001b[1m0s\u001b[0m 52ms/step - accuracy: 0.8936 - loss: 0.3322\n",
            "Epoch 9: val_loss improved from 0.42196 to 0.37371, saving model to improved_rnn_sentiment_model.h5\n"
          ]
        },
        {
          "output_type": "stream",
          "name": "stderr",
          "text": [
            "WARNING:absl:You are saving your model as an HDF5 file via `model.save()` or `keras.saving.save_model(model)`. This file format is considered legacy. We recommend using instead the native Keras format, e.g. `model.save('my_model.keras')` or `keras.saving.save_model(model, 'my_model.keras')`. \n"
          ]
        },
        {
          "output_type": "stream",
          "name": "stdout",
          "text": [
            "\b\b\b\b\b\b\b\b\b\b\b\b\b\b\b\b\b\b\b\b\b\b\b\b\b\b\b\b\b\b\b\b\b\b\b\b\b\b\b\b\b\b\b\b\b\b\b\b\b\b\b\b\b\b\b\b\b\b\b\b\b\b\b\b\b\b\b\b\b\b\b\b\b\b\b\r\u001b[1m625/625\u001b[0m \u001b[32m━━━━━━━━━━━━━━━━━━━━\u001b[0m\u001b[37m\u001b[0m \u001b[1m40s\u001b[0m 57ms/step - accuracy: 0.8936 - loss: 0.3322 - val_accuracy: 0.8698 - val_loss: 0.3737\n",
            "Epoch 10/30\n",
            "\u001b[1m625/625\u001b[0m \u001b[32m━━━━━━━━━━━━━━━━━━━━\u001b[0m\u001b[37m\u001b[0m \u001b[1m0s\u001b[0m 53ms/step - accuracy: 0.9109 - loss: 0.2867\n",
            "Epoch 10: val_loss did not improve from 0.37371\n",
            "\u001b[1m625/625\u001b[0m \u001b[32m━━━━━━━━━━━━━━━━━━━━\u001b[0m\u001b[37m\u001b[0m \u001b[1m42s\u001b[0m 58ms/step - accuracy: 0.9109 - loss: 0.2867 - val_accuracy: 0.6480 - val_loss: 0.7135\n",
            "Epoch 11/30\n",
            "\u001b[1m625/625\u001b[0m \u001b[32m━━━━━━━━━━━━━━━━━━━━\u001b[0m\u001b[37m\u001b[0m \u001b[1m0s\u001b[0m 53ms/step - accuracy: 0.9265 - loss: 0.2503\n",
            "Epoch 11: val_loss improved from 0.37371 to 0.35216, saving model to improved_rnn_sentiment_model.h5\n"
          ]
        },
        {
          "output_type": "stream",
          "name": "stderr",
          "text": [
            "WARNING:absl:You are saving your model as an HDF5 file via `model.save()` or `keras.saving.save_model(model)`. This file format is considered legacy. We recommend using instead the native Keras format, e.g. `model.save('my_model.keras')` or `keras.saving.save_model(model, 'my_model.keras')`. \n"
          ]
        },
        {
          "output_type": "stream",
          "name": "stdout",
          "text": [
            "\b\b\b\b\b\b\b\b\b\b\b\b\b\b\b\b\b\b\b\b\b\b\b\b\b\b\b\b\b\b\b\b\b\b\b\b\b\b\b\b\b\b\b\b\b\b\b\b\b\b\b\b\b\b\b\b\b\b\b\b\b\b\b\b\b\b\b\b\b\b\b\b\b\b\b\r\u001b[1m625/625\u001b[0m \u001b[32m━━━━━━━━━━━━━━━━━━━━\u001b[0m\u001b[37m\u001b[0m \u001b[1m41s\u001b[0m 58ms/step - accuracy: 0.9265 - loss: 0.2503 - val_accuracy: 0.8697 - val_loss: 0.3522\n",
            "Epoch 12/30\n",
            "\u001b[1m625/625\u001b[0m \u001b[32m━━━━━━━━━━━━━━━━━━━━\u001b[0m\u001b[37m\u001b[0m \u001b[1m0s\u001b[0m 53ms/step - accuracy: 0.9377 - loss: 0.2130\n",
            "Epoch 12: val_loss did not improve from 0.35216\n",
            "\u001b[1m625/625\u001b[0m \u001b[32m━━━━━━━━━━━━━━━━━━━━\u001b[0m\u001b[37m\u001b[0m \u001b[1m38s\u001b[0m 61ms/step - accuracy: 0.9377 - loss: 0.2130 - val_accuracy: 0.8589 - val_loss: 0.3897\n",
            "Epoch 13/30\n",
            "\u001b[1m625/625\u001b[0m \u001b[32m━━━━━━━━━━━━━━━━━━━━\u001b[0m\u001b[37m\u001b[0m \u001b[1m0s\u001b[0m 53ms/step - accuracy: 0.9513 - loss: 0.1703\n",
            "Epoch 13: val_loss did not improve from 0.35216\n",
            "\u001b[1m625/625\u001b[0m \u001b[32m━━━━━━━━━━━━━━━━━━━━\u001b[0m\u001b[37m\u001b[0m \u001b[1m39s\u001b[0m 58ms/step - accuracy: 0.9513 - loss: 0.1703 - val_accuracy: 0.8678 - val_loss: 0.3885\n",
            "Epoch 14/30\n",
            "\u001b[1m625/625\u001b[0m \u001b[32m━━━━━━━━━━━━━━━━━━━━\u001b[0m\u001b[37m\u001b[0m \u001b[1m0s\u001b[0m 51ms/step - accuracy: 0.9586 - loss: 0.1424\n",
            "Epoch 14: val_loss did not improve from 0.35216\n",
            "\u001b[1m625/625\u001b[0m \u001b[32m━━━━━━━━━━━━━━━━━━━━\u001b[0m\u001b[37m\u001b[0m \u001b[1m34s\u001b[0m 55ms/step - accuracy: 0.9586 - loss: 0.1424 - val_accuracy: 0.8484 - val_loss: 0.5154\n",
            "Epoch 15/30\n",
            "\u001b[1m625/625\u001b[0m \u001b[32m━━━━━━━━━━━━━━━━━━━━\u001b[0m\u001b[37m\u001b[0m \u001b[1m0s\u001b[0m 54ms/step - accuracy: 0.9657 - loss: 0.1250\n",
            "Epoch 15: val_loss did not improve from 0.35216\n",
            "\u001b[1m625/625\u001b[0m \u001b[32m━━━━━━━━━━━━━━━━━━━━\u001b[0m\u001b[37m\u001b[0m \u001b[1m36s\u001b[0m 58ms/step - accuracy: 0.9657 - loss: 0.1250 - val_accuracy: 0.8403 - val_loss: 0.5286\n",
            "Epoch 16/30\n",
            "\u001b[1m624/625\u001b[0m \u001b[32m━━━━━━━━━━━━━━━━━━━\u001b[0m\u001b[37m━\u001b[0m \u001b[1m0s\u001b[0m 52ms/step - accuracy: 0.9758 - loss: 0.0952\n",
            "Epoch 16: val_loss did not improve from 0.35216\n",
            "\u001b[1m625/625\u001b[0m \u001b[32m━━━━━━━━━━━━━━━━━━━━\u001b[0m\u001b[37m\u001b[0m \u001b[1m39s\u001b[0m 56ms/step - accuracy: 0.9758 - loss: 0.0952 - val_accuracy: 0.8594 - val_loss: 0.4587\n",
            "Epoch 17/30\n",
            "\u001b[1m625/625\u001b[0m \u001b[32m━━━━━━━━━━━━━━━━━━━━\u001b[0m\u001b[37m\u001b[0m \u001b[1m0s\u001b[0m 49ms/step - accuracy: 0.9787 - loss: 0.0870\n",
            "Epoch 17: val_loss did not improve from 0.35216\n",
            "\u001b[1m625/625\u001b[0m \u001b[32m━━━━━━━━━━━━━━━━━━━━\u001b[0m\u001b[37m\u001b[0m \u001b[1m40s\u001b[0m 53ms/step - accuracy: 0.9787 - loss: 0.0870 - val_accuracy: 0.8125 - val_loss: 0.6058\n",
            "Epoch 18/30\n",
            "\u001b[1m625/625\u001b[0m \u001b[32m━━━━━━━━━━━━━━━━━━━━\u001b[0m\u001b[37m\u001b[0m \u001b[1m0s\u001b[0m 49ms/step - accuracy: 0.9786 - loss: 0.0815\n",
            "Epoch 18: val_loss did not improve from 0.35216\n",
            "\u001b[1m625/625\u001b[0m \u001b[32m━━━━━━━━━━━━━━━━━━━━\u001b[0m\u001b[37m\u001b[0m \u001b[1m41s\u001b[0m 53ms/step - accuracy: 0.9786 - loss: 0.0815 - val_accuracy: 0.8704 - val_loss: 0.4391\n"
          ]
        }
      ]
    },
    {
      "cell_type": "code",
      "source": [
        "# Load the saved model\n",
        "model = load_model('improved_rnn_sentiment_model.h5')\n",
        "\n",
        "# Evaluate the model on the test set\n",
        "loss, accuracy = model.evaluate(X_test, y_test)\n",
        "print(f'Test Accuracy: {accuracy:.4f}')"
      ],
      "metadata": {
        "colab": {
          "base_uri": "https://localhost:8080/"
        },
        "id": "jVP2YZrCRUmh",
        "outputId": "49d988ce-6174-4c74-cf25-386796db6c72"
      },
      "execution_count": null,
      "outputs": [
        {
          "output_type": "stream",
          "name": "stderr",
          "text": [
            "WARNING:absl:Compiled the loaded model, but the compiled metrics have yet to be built. `model.compile_metrics` will be empty until you train or evaluate the model.\n"
          ]
        },
        {
          "output_type": "stream",
          "name": "stdout",
          "text": [
            "\u001b[1m313/313\u001b[0m \u001b[32m━━━━━━━━━━━━━━━━━━━━\u001b[0m\u001b[37m\u001b[0m \u001b[1m7s\u001b[0m 16ms/step - accuracy: 0.8631 - loss: 0.3579\n",
            "Test Accuracy: 0.8697\n"
          ]
        }
      ]
    },
    {
      "cell_type": "code",
      "source": [
        "# Load the trained RNN model\n",
        "model = load_model(\"improved_rnn_sentiment_model.h5\")\n",
        "\n",
        "# Make predictions\n",
        "predictions2 = improved_model.predict(X_test_padded)\n",
        "\n",
        "# Convert probabilities to binary labels\n",
        "test_data['predicted_sentiment2'] = (predictions2 >= 0.5).astype(int)"
      ],
      "metadata": {
        "colab": {
          "base_uri": "https://localhost:8080/"
        },
        "id": "0RZmNtpYwANL",
        "outputId": "167e8151-0d58-4de8-a25b-f00afe0a233b"
      },
      "execution_count": null,
      "outputs": [
        {
          "output_type": "stream",
          "name": "stderr",
          "text": [
            "WARNING:absl:Compiled the loaded model, but the compiled metrics have yet to be built. `model.compile_metrics` will be empty until you train or evaluate the model.\n"
          ]
        },
        {
          "output_type": "stream",
          "name": "stdout",
          "text": [
            "\u001b[1m2/2\u001b[0m \u001b[32m━━━━━━━━━━━━━━━━━━━━\u001b[0m\u001b[37m\u001b[0m \u001b[1m1s\u001b[0m 708ms/step\n"
          ]
        }
      ]
    },
    {
      "cell_type": "code",
      "source": [
        "# Calculate accuracy\n",
        "accuracy = accuracy_score(test_data['sentiment_encoded'], test_data['predicted_sentiment2'])\n",
        "print(f\"\\n✅ Model Accuracy on New Test Data: {accuracy:.4f}\")\n",
        "\n",
        "# Display a detailed classification report\n",
        "print(\"\\n📊 Classification Report:\\n\")\n",
        "print(classification_report(test_data['sentiment_encoded'], test_data['predicted_sentiment2']))\n",
        "\n",
        "# Display confusion matrix\n",
        "print(\"\\n🛑 Confusion Matrix:\\n\")\n",
        "print(confusion_matrix(test_data['sentiment_encoded'], test_data['predicted_sentiment2']))"
      ],
      "metadata": {
        "colab": {
          "base_uri": "https://localhost:8080/"
        },
        "id": "dG_WuyDdwIzt",
        "outputId": "74be67b5-5506-4536-8aac-31a753a911dc"
      },
      "execution_count": null,
      "outputs": [
        {
          "output_type": "stream",
          "name": "stdout",
          "text": [
            "\n",
            "✅ Model Accuracy on New Test Data: 0.4667\n",
            "\n",
            "📊 Classification Report:\n",
            "\n",
            "              precision    recall  f1-score   support\n",
            "\n",
            "           0       0.43      0.69      0.53        26\n",
            "           1       0.56      0.29      0.38        34\n",
            "\n",
            "    accuracy                           0.47        60\n",
            "   macro avg       0.49      0.49      0.46        60\n",
            "weighted avg       0.50      0.47      0.45        60\n",
            "\n",
            "\n",
            "🛑 Confusion Matrix:\n",
            "\n",
            "[[18  8]\n",
            " [24 10]]\n"
          ]
        }
      ]
    },
    {
      "cell_type": "markdown",
      "source": [
        "### **Model 3: Bidirectional RNN**\n",
        "**Improvements:**\n",
        "- Implemented a **Bidirectional RNN**, allowing the model to capture **context in both directions** (forward and backward).\n",
        "- Added **regularization** and used the same optimized hyperparameters as the tuned RNN model.\n",
        "\n",
        "**Training Results:**\n",
        "- ✅ Accuracy: **0.8631**\n",
        "- ✅ Loss: **0.3579**\n",
        "- ✅ Test Accuracy: **0.8697**\n",
        "\n",
        "**Evaluation on External Test Data:**\n",
        "- ✅ Model Accuracy: **0.4667**\n",
        "\n",
        "🛑 **Confusion Matrix:**\n",
        "```\n",
        "[[18  8]  \n",
        " [24 10]]  \n",
        "```\n",
        "\n",
        "### **📌 Interpretation:**\n",
        "- The Bidirectional RNN achieved the highest accuracy on the IMDB test set (86.97%), demonstrating strong learning from the training data.\n",
        "\n",
        "However, it struggled to generalize on the external dataset, with accuracy dropping to 46.7%.\n",
        "\n",
        "The model showed a bias toward negative reviews, misclassifying many positive reviews.\n",
        "\n",
        "The confusion matrix revealed 24 false negatives, indicating poor recall for positive reviews.\n",
        "\n",
        "\n",
        "## 📈 **5. Results & Conclusion**\n",
        "\n",
        "### ✅ **Model Comparison on Test Data:**\n",
        "| Model                  | IMDB Test Accuracy | External Test Accuracy |\n",
        "|------------------------|--------------------|------------------------|\n",
        "| Basic RNN              | **86.07%**         | **61.67%**              |\n",
        "| Tuned RNN              | **85.86%**         | **60.00%**              |\n",
        "| Bidirectional RNN      | **86.97%**         | **46.67%**              |\n",
        "\n",
        "### 🔥 **Key Takeaways:**\n",
        "- The Bidirectional RNN delivered the highest accuracy on the IMDB dataset but failed to generalize to the external dataset.\n",
        "\n",
        "Overfitting occurred as the model became overly tailored to the IMDB dataset.\n",
        "\n",
        "The basic RNN demonstrated the best generalization performance on the external test set, suggesting that a simpler model may be more resilient to unseen data.\n",
        "\n",
        "## 🚀 **6. Future Enhancements**\n",
        "- Use **LSTM or GRU** networks for better long-term dependency capture.  \n",
        "- Apply **transfer learning** using pre-trained language models like **BERT** or **RoBERTa**.  \n",
        "- Implement **data augmentation** techniques to enhance generalization.  \n",
        "- Use **fine-tuning** with external datasets to reduce overfitting.  \n",
        "\n",
        "---\n",
        "\n",
        "\n"
      ],
      "metadata": {
        "id": "8JL2M5KRTUIh"
      }
    }
  ]
}